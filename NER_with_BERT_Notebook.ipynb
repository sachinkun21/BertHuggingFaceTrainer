{
  "nbformat": 4,
  "nbformat_minor": 0,
  "metadata": {
    "colab": {
      "name": "NER with BERT Notebook.ipynb",
      "provenance": [],
      "collapsed_sections": [],
      "authorship_tag": "ABX9TyNGFtWgdbdV5rksaGH9Hfqt",
      "include_colab_link": true
    },
    "kernelspec": {
      "name": "python3",
      "display_name": "Python 3"
    },
    "language_info": {
      "name": "python"
    },
    "accelerator": "GPU"
  },
  "cells": [
    {
      "cell_type": "markdown",
      "metadata": {
        "id": "view-in-github",
        "colab_type": "text"
      },
      "source": [
        "<a href=\"https://colab.research.google.com/github/sachinkun21/BertHuggingFaceTrainer/blob/main/NER_with_BERT_Notebook.ipynb\" target=\"_parent\"><img src=\"https://colab.research.google.com/assets/colab-badge.svg\" alt=\"Open In Colab\"/></a>"
      ]
    },
    {
      "cell_type": "markdown",
      "source": [
        "Cloning NER Repo:"
      ],
      "metadata": {
        "id": "gIukEqr40tZF"
      }
    },
    {
      "cell_type": "code",
      "execution_count": 1,
      "metadata": {
        "colab": {
          "base_uri": "https://localhost:8080/"
        },
        "id": "asTBF9xwuZos",
        "outputId": "d1d44327-7fcb-4832-c4f6-82f88ee4a1a2"
      },
      "outputs": [
        {
          "output_type": "stream",
          "name": "stdout",
          "text": [
            "Cloning into 'BertHuggingFaceTrainer'...\n",
            "remote: Enumerating objects: 133, done.\u001b[K\n",
            "remote: Counting objects: 100% (133/133), done.\u001b[K\n",
            "remote: Compressing objects: 100% (86/86), done.\u001b[K\n",
            "remote: Total 133 (delta 39), reused 119 (delta 29), pack-reused 0\u001b[K\n",
            "Receiving objects: 100% (133/133), 146.19 KiB | 2.98 MiB/s, done.\n",
            "Resolving deltas: 100% (39/39), done.\n"
          ]
        }
      ],
      "source": [
        "!git clone https://github.com/sachinkun21/BertHuggingFaceTrainer.git"
      ]
    },
    {
      "cell_type": "markdown",
      "source": [
        "### Verifying GPU and available memory:\n",
        "- Note: If you get memory less than 16GB, reduce the BatchSize accordingly in config.py file. 64 works well for memory of 16GB"
      ],
      "metadata": {
        "id": "OtkjAHzq0wrH"
      }
    },
    {
      "cell_type": "code",
      "source": [
        "!nvidia-smi"
      ],
      "metadata": {
        "colab": {
          "base_uri": "https://localhost:8080/"
        },
        "id": "qkxmmSS-udCZ",
        "outputId": "b9940138-e61f-4352-af6a-b81a1ee6ca1a"
      },
      "execution_count": 2,
      "outputs": [
        {
          "output_type": "stream",
          "name": "stdout",
          "text": [
            "Tue Feb  8 11:01:31 2022       \n",
            "+-----------------------------------------------------------------------------+\n",
            "| NVIDIA-SMI 460.32.03    Driver Version: 460.32.03    CUDA Version: 11.2     |\n",
            "|-------------------------------+----------------------+----------------------+\n",
            "| GPU  Name        Persistence-M| Bus-Id        Disp.A | Volatile Uncorr. ECC |\n",
            "| Fan  Temp  Perf  Pwr:Usage/Cap|         Memory-Usage | GPU-Util  Compute M. |\n",
            "|                               |                      |               MIG M. |\n",
            "|===============================+======================+======================|\n",
            "|   0  Tesla K80           Off  | 00000000:00:04.0 Off |                    0 |\n",
            "| N/A   56C    P8    30W / 149W |      0MiB / 11441MiB |      0%      Default |\n",
            "|                               |                      |                  N/A |\n",
            "+-------------------------------+----------------------+----------------------+\n",
            "                                                                               \n",
            "+-----------------------------------------------------------------------------+\n",
            "| Processes:                                                                  |\n",
            "|  GPU   GI   CI        PID   Type   Process name                  GPU Memory |\n",
            "|        ID   ID                                                   Usage      |\n",
            "|=============================================================================|\n",
            "|  No running processes found                                                 |\n",
            "+-----------------------------------------------------------------------------+\n"
          ]
        }
      ]
    },
    {
      "cell_type": "code",
      "source": [
        "cd BertHuggingFaceTrainer/"
      ],
      "metadata": {
        "colab": {
          "base_uri": "https://localhost:8080/"
        },
        "id": "xw0usobVum-6",
        "outputId": "0f16f0e3-a3a9-4b8c-a20c-7bc5724d0454"
      },
      "execution_count": 3,
      "outputs": [
        {
          "output_type": "stream",
          "name": "stdout",
          "text": [
            "/content/BertHuggingFaceTrainer\n"
          ]
        }
      ]
    },
    {
      "cell_type": "code",
      "source": [
        "ls"
      ],
      "metadata": {
        "colab": {
          "base_uri": "https://localhost:8080/"
        },
        "id": "J24bRW1duuw0",
        "outputId": "37babd51-e7e8-4098-8aa7-3a70e760b348"
      },
      "execution_count": 4,
      "outputs": [
        {
          "output_type": "stream",
          "name": "stdout",
          "text": [
            "config.py     engine.py             predict.py    requirements.txt\n",
            "dataset.py    label_encoder.joblib  \u001b[0m\u001b[01;34m__pycache__\u001b[0m/  train.py\n",
            "dvcfiles.dvc  model.py              README.md     \u001b[01;34mwandb\u001b[0m/\n"
          ]
        }
      ]
    },
    {
      "cell_type": "markdown",
      "source": [
        "### Install Requirements"
      ],
      "metadata": {
        "id": "qE0UeJPa1KK6"
      }
    },
    {
      "cell_type": "code",
      "source": [
        "!pip install --upgrade pip"
      ],
      "metadata": {
        "colab": {
          "base_uri": "https://localhost:8080/"
        },
        "id": "7gJcjiLL1N4U",
        "outputId": "3107f89f-d889-4cb3-e0fa-2482c80e9995"
      },
      "execution_count": 5,
      "outputs": [
        {
          "output_type": "stream",
          "name": "stdout",
          "text": [
            "Requirement already satisfied: pip in /usr/local/lib/python3.7/dist-packages (21.1.3)\n",
            "Collecting pip\n",
            "  Downloading pip-22.0.3-py3-none-any.whl (2.1 MB)\n",
            "\u001b[K     |████████████████████████████████| 2.1 MB 5.2 MB/s \n",
            "\u001b[?25hInstalling collected packages: pip\n",
            "  Attempting uninstall: pip\n",
            "    Found existing installation: pip 21.1.3\n",
            "    Uninstalling pip-21.1.3:\n",
            "      Successfully uninstalled pip-21.1.3\n",
            "Successfully installed pip-22.0.3\n"
          ]
        }
      ]
    },
    {
      "cell_type": "code",
      "source": [
        "!pip install -r requirements.txt"
      ],
      "metadata": {
        "colab": {
          "base_uri": "https://localhost:8080/"
        },
        "id": "RWNV5u3ju4n3",
        "outputId": "9b8df797-0a26-4e16-f303-732dc412b5ee"
      },
      "execution_count": 6,
      "outputs": [
        {
          "output_type": "stream",
          "name": "stdout",
          "text": [
            "Collecting transformers==4.16.2\n",
            "  Downloading transformers-4.16.2-py3-none-any.whl (3.5 MB)\n",
            "\u001b[2K     \u001b[90m━━━━━━━━━━━━━━━━━━━━━━━━━━━━━━━━━━━━━━━━\u001b[0m \u001b[32m3.5/3.5 MB\u001b[0m \u001b[31m24.0 MB/s\u001b[0m eta \u001b[36m0:00:00\u001b[0m\n",
            "\u001b[?25hRequirement already satisfied: tqdm==4.62.3 in /usr/local/lib/python3.7/dist-packages (from -r requirements.txt (line 2)) (4.62.3)\n",
            "Requirement already satisfied: scikit-learn==1.0.2 in /usr/local/lib/python3.7/dist-packages (from -r requirements.txt (line 3)) (1.0.2)\n",
            "Requirement already satisfied: joblib==1.1.0 in /usr/local/lib/python3.7/dist-packages (from -r requirements.txt (line 4)) (1.1.0)\n",
            "Collecting dvc[gdrive]==2.9.3\n",
            "  Downloading dvc-2.9.3-py3-none-any.whl (401 kB)\n",
            "\u001b[2K     \u001b[90m━━━━━━━━━━━━━━━━━━━━━━━━━━━━━━━━━━━━━━\u001b[0m \u001b[32m401.7/401.7 KB\u001b[0m \u001b[31m19.4 MB/s\u001b[0m eta \u001b[36m0:00:00\u001b[0m\n",
            "\u001b[?25hCollecting wandb==0.12.10\n",
            "  Downloading wandb-0.12.10-py2.py3-none-any.whl (1.7 MB)\n",
            "\u001b[2K     \u001b[90m━━━━━━━━━━━━━━━━━━━━━━━━━━━━━━━━━━━━━━━━\u001b[0m \u001b[32m1.7/1.7 MB\u001b[0m \u001b[31m21.3 MB/s\u001b[0m eta \u001b[36m0:00:00\u001b[0m\n",
            "\u001b[?25hCollecting torch==1.10.2\n",
            "  Downloading torch-1.10.2-cp37-cp37m-manylinux1_x86_64.whl (881.9 MB)\n",
            "\u001b[2K     \u001b[91m━━━━━━━━━━━━━━━━━━━━━━━━━━━━━━━━━━━━━\u001b[0m\u001b[91m╸\u001b[0m \u001b[32m881.9/881.9 MB\u001b[0m \u001b[31m88.2 MB/s\u001b[0m eta \u001b[36m0:00:01\u001b[0mtcmalloc: large alloc 1102413824 bytes == 0x556044f0a000 @  0x7f13b7022615 0x55600dfc03bc 0x55600e0a118a 0x55600dfc31cd 0x55600e0b5b3d 0x55600e037458 0x55600e03202f 0x55600dfc4aba 0x55600e033108 0x55600e03202f 0x55600dfc4aba 0x55600e033108 0x55600e03202f 0x55600dfc4aba 0x55600e033108 0x55600e03202f 0x55600dfc4aba 0x55600e033108 0x55600e03202f 0x55600dfc4aba 0x55600e033108 0x55600dfc49da 0x55600e033108 0x55600e03202f 0x55600dfc4aba 0x55600e033cd4 0x55600e03202f 0x55600dfc4aba 0x55600e033108 0x55600e03202f 0x55600dfc5151\n",
            "\u001b[2K     \u001b[90m━━━━━━━━━━━━━━━━━━━━━━━━━━━━━━━━━━━━━\u001b[0m \u001b[32m881.9/881.9 MB\u001b[0m \u001b[31m511.9 kB/s\u001b[0m eta \u001b[36m0:00:00\u001b[0m\n",
            "\u001b[?25hRequirement already satisfied: importlib-metadata in /usr/local/lib/python3.7/dist-packages (from transformers==4.16.2->-r requirements.txt (line 1)) (4.10.1)\n",
            "Requirement already satisfied: numpy>=1.17 in /usr/local/lib/python3.7/dist-packages (from transformers==4.16.2->-r requirements.txt (line 1)) (1.19.5)\n",
            "Collecting tokenizers!=0.11.3,>=0.10.1\n",
            "  Downloading tokenizers-0.11.4-cp37-cp37m-manylinux_2_12_x86_64.manylinux2010_x86_64.whl (6.8 MB)\n",
            "\u001b[2K     \u001b[90m━━━━━━━━━━━━━━━━━━━━━━━━━━━━━━━━━━━━━━━━\u001b[0m \u001b[32m6.8/6.8 MB\u001b[0m \u001b[31m49.9 MB/s\u001b[0m eta \u001b[36m0:00:00\u001b[0m\n",
            "\u001b[?25hRequirement already satisfied: requests in /usr/local/lib/python3.7/dist-packages (from transformers==4.16.2->-r requirements.txt (line 1)) (2.23.0)\n",
            "Requirement already satisfied: packaging>=20.0 in /usr/local/lib/python3.7/dist-packages (from transformers==4.16.2->-r requirements.txt (line 1)) (21.3)\n",
            "Requirement already satisfied: filelock in /usr/local/lib/python3.7/dist-packages (from transformers==4.16.2->-r requirements.txt (line 1)) (3.4.2)\n",
            "Collecting sacremoses\n",
            "  Downloading sacremoses-0.0.47-py2.py3-none-any.whl (895 kB)\n",
            "\u001b[2K     \u001b[90m━━━━━━━━━━━━━━━━━━━━━━━━━━━━━━━━━━━━━━\u001b[0m \u001b[32m895.2/895.2 KB\u001b[0m \u001b[31m27.2 MB/s\u001b[0m eta \u001b[36m0:00:00\u001b[0m\n",
            "\u001b[?25hRequirement already satisfied: regex!=2019.12.17 in /usr/local/lib/python3.7/dist-packages (from transformers==4.16.2->-r requirements.txt (line 1)) (2019.12.20)\n",
            "Collecting pyyaml>=5.1\n",
            "  Downloading PyYAML-6.0-cp37-cp37m-manylinux_2_5_x86_64.manylinux1_x86_64.manylinux_2_12_x86_64.manylinux2010_x86_64.whl (596 kB)\n",
            "\u001b[2K     \u001b[90m━━━━━━━━━━━━━━━━━━━━━━━━━━━━━━━━━━━━━━\u001b[0m \u001b[32m596.3/596.3 KB\u001b[0m \u001b[31m20.3 MB/s\u001b[0m eta \u001b[36m0:00:00\u001b[0m\n",
            "\u001b[?25hCollecting huggingface-hub<1.0,>=0.1.0\n",
            "  Downloading huggingface_hub-0.4.0-py3-none-any.whl (67 kB)\n",
            "\u001b[2K     \u001b[90m━━━━━━━━━━━━━━━━━━━━━━━━━━━━━━━━━━━━━━━━\u001b[0m \u001b[32m67.0/67.0 KB\u001b[0m \u001b[31m7.7 MB/s\u001b[0m eta \u001b[36m0:00:00\u001b[0m\n",
            "\u001b[?25hRequirement already satisfied: scipy>=1.1.0 in /usr/local/lib/python3.7/dist-packages (from scikit-learn==1.0.2->-r requirements.txt (line 3)) (1.4.1)\n",
            "Requirement already satisfied: threadpoolctl>=2.0.0 in /usr/local/lib/python3.7/dist-packages (from scikit-learn==1.0.2->-r requirements.txt (line 3)) (3.1.0)\n",
            "Collecting funcy>=1.14\n",
            "  Downloading funcy-1.17-py2.py3-none-any.whl (33 kB)\n",
            "Collecting python-benedict>=0.24.2\n",
            "  Downloading python_benedict-0.24.3-py3-none-any.whl (41 kB)\n",
            "\u001b[2K     \u001b[90m━━━━━━━━━━━━━━━━━━━━━━━━━━━━━━━━━━━━━━━━\u001b[0m \u001b[32m41.0/41.0 KB\u001b[0m \u001b[31m4.3 MB/s\u001b[0m eta \u001b[36m0:00:00\u001b[0m\n",
            "\u001b[?25hCollecting ruamel.yaml>=0.17.11\n",
            "  Downloading ruamel.yaml-0.17.20-py3-none-any.whl (109 kB)\n",
            "\u001b[2K     \u001b[90m━━━━━━━━━━━━━━━━━━━━━━━━━━━━━━━━━━━━━━\u001b[0m \u001b[32m109.5/109.5 KB\u001b[0m \u001b[31m11.1 MB/s\u001b[0m eta \u001b[36m0:00:00\u001b[0m\n",
            "\u001b[?25hCollecting distro>=1.3.0\n",
            "  Downloading distro-1.6.0-py2.py3-none-any.whl (19 kB)\n",
            "Collecting rich>=10.13.0\n",
            "  Downloading rich-11.1.0-py3-none-any.whl (216 kB)\n",
            "\u001b[2K     \u001b[90m━━━━━━━━━━━━━━━━━━━━━━━━━━━━━━━━━━━━━━\u001b[0m \u001b[32m216.5/216.5 KB\u001b[0m \u001b[31m12.3 MB/s\u001b[0m eta \u001b[36m0:00:00\u001b[0m\n",
            "\u001b[?25hCollecting diskcache>=5.2.1\n",
            "  Downloading diskcache-5.4.0-py3-none-any.whl (44 kB)\n",
            "\u001b[2K     \u001b[90m━━━━━━━━━━━━━━━━━━━━━━━━━━━━━━━━━━━━━━━━\u001b[0m \u001b[32m45.0/45.0 KB\u001b[0m \u001b[31m4.8 MB/s\u001b[0m eta \u001b[36m0:00:00\u001b[0m\n",
            "\u001b[?25hCollecting shtab<2,>=1.3.4\n",
            "  Downloading shtab-1.5.3-py2.py3-none-any.whl (12 kB)\n",
            "Collecting voluptuous>=0.11.7\n",
            "  Downloading voluptuous-0.12.2.tar.gz (48 kB)\n",
            "\u001b[2K     \u001b[90m━━━━━━━━━━━━━━━━━━━━━━━━━━━━━━━━━━━━━━━━\u001b[0m \u001b[32m48.5/48.5 KB\u001b[0m \u001b[31m5.3 MB/s\u001b[0m eta \u001b[36m0:00:00\u001b[0m\n",
            "\u001b[?25h  Preparing metadata (setup.py) ... \u001b[?25l\u001b[?25hdone\n",
            "Requirement already satisfied: toml>=0.10.1 in /usr/local/lib/python3.7/dist-packages (from dvc[gdrive]==2.9.3->-r requirements.txt (line 5)) (0.10.2)\n",
            "Collecting fsspec[http]>=2021.10.1\n",
            "  Downloading fsspec-2022.1.0-py3-none-any.whl (133 kB)\n",
            "\u001b[2K     \u001b[90m━━━━━━━━━━━━━━━━━━━━━━━━━━━━━━━━━━━━━━\u001b[0m \u001b[32m133.2/133.2 KB\u001b[0m \u001b[31m13.8 MB/s\u001b[0m eta \u001b[36m0:00:00\u001b[0m\n",
            "\u001b[?25hCollecting zc.lockfile>=1.2.1\n",
            "  Downloading zc.lockfile-2.0-py2.py3-none-any.whl (9.7 kB)\n",
            "Requirement already satisfied: pyasn1>=0.4.1 in /usr/local/lib/python3.7/dist-packages (from dvc[gdrive]==2.9.3->-r requirements.txt (line 5)) (0.4.8)\n",
            "Requirement already satisfied: importlib-resources>=5.2.2 in /usr/local/lib/python3.7/dist-packages (from dvc[gdrive]==2.9.3->-r requirements.txt (line 5)) (5.4.0)\n",
            "Requirement already satisfied: tabulate>=0.8.7 in /usr/local/lib/python3.7/dist-packages (from dvc[gdrive]==2.9.3->-r requirements.txt (line 5)) (0.8.9)\n",
            "Collecting pygtrie>=2.3.2\n",
            "  Downloading pygtrie-2.4.2.tar.gz (35 kB)\n",
            "  Preparing metadata (setup.py) ... \u001b[?25l\u001b[?25hdone\n",
            "Collecting shortuuid>=0.5.0\n",
            "  Downloading shortuuid-1.0.8-py3-none-any.whl (9.5 kB)\n",
            "Collecting ply>=3.9\n",
            "  Downloading ply-3.11-py2.py3-none-any.whl (49 kB)\n",
            "\u001b[2K     \u001b[90m━━━━━━━━━━━━━━━━━━━━━━━━━━━━━━━━━━━━━━━━\u001b[0m \u001b[32m49.6/49.6 KB\u001b[0m \u001b[31m5.5 MB/s\u001b[0m eta \u001b[36m0:00:00\u001b[0m\n",
            "\u001b[?25hCollecting psutil>=5.8.0\n",
            "  Downloading psutil-5.9.0-cp37-cp37m-manylinux_2_12_x86_64.manylinux2010_x86_64.manylinux_2_17_x86_64.manylinux2014_x86_64.whl (280 kB)\n",
            "\u001b[2K     \u001b[90m━━━━━━━━━━━━━━━━━━━━━━━━━━━━━━━━━━━━━━\u001b[0m \u001b[32m280.7/280.7 KB\u001b[0m \u001b[31m15.6 MB/s\u001b[0m eta \u001b[36m0:00:00\u001b[0m\n",
            "\u001b[?25hCollecting colorama>=0.3.9\n",
            "  Downloading colorama-0.4.4-py2.py3-none-any.whl (16 kB)\n",
            "Requirement already satisfied: typing-extensions>=3.7.4 in /usr/local/lib/python3.7/dist-packages (from dvc[gdrive]==2.9.3->-r requirements.txt (line 5)) (3.10.0.2)\n",
            "Collecting aiohttp-retry>=2.4.5\n",
            "  Downloading aiohttp_retry-2.4.6-py3-none-any.whl (7.7 kB)\n",
            "Collecting configobj>=5.0.6\n",
            "  Downloading configobj-5.0.6.tar.gz (33 kB)\n",
            "  Preparing metadata (setup.py) ... \u001b[?25l\u001b[?25hdone\n",
            "Collecting pathspec<0.10.0,>=0.9.0\n",
            "  Downloading pathspec-0.9.0-py2.py3-none-any.whl (31 kB)\n",
            "Collecting grandalf==0.6\n",
            "  Downloading grandalf-0.6-py3-none-any.whl (31 kB)\n",
            "Requirement already satisfied: networkx>=2.5 in /usr/local/lib/python3.7/dist-packages (from dvc[gdrive]==2.9.3->-r requirements.txt (line 5)) (2.6.3)\n",
            "Collecting nanotime>=0.5.2\n",
            "  Downloading nanotime-0.5.2.tar.gz (3.2 kB)\n",
            "  Preparing metadata (setup.py) ... \u001b[?25l\u001b[?25hdone\n",
            "Requirement already satisfied: appdirs>=1.4.3 in /usr/local/lib/python3.7/dist-packages (from dvc[gdrive]==2.9.3->-r requirements.txt (line 5)) (1.4.4)\n",
            "Collecting flufl.lock>=5\n",
            "  Downloading flufl.lock-7.0-py3-none-any.whl (11 kB)\n",
            "Collecting flatten-dict<1,>=0.4.1\n",
            "  Downloading flatten_dict-0.4.2-py2.py3-none-any.whl (9.7 kB)\n",
            "Collecting dictdiffer>=0.8.1\n",
            "  Downloading dictdiffer-0.9.0-py2.py3-none-any.whl (16 kB)\n",
            "Requirement already satisfied: pydot>=1.2.4 in /usr/local/lib/python3.7/dist-packages (from dvc[gdrive]==2.9.3->-r requirements.txt (line 5)) (1.3.0)\n",
            "Collecting dpath<3,>=2.0.2\n",
            "  Downloading dpath-2.0.6-py3-none-any.whl (15 kB)\n",
            "Requirement already satisfied: pyparsing>=2.4.7 in /usr/local/lib/python3.7/dist-packages (from dvc[gdrive]==2.9.3->-r requirements.txt (line 5)) (3.0.7)\n",
            "Collecting scmrepo==0.0.7\n",
            "  Downloading scmrepo-0.0.7-py3-none-any.whl (38 kB)\n",
            "Collecting pydrive2[fsspec]>=1.9.4\n",
            "  Downloading PyDrive2-1.10.0-py3-none-any.whl (39 kB)\n",
            "Collecting sentry-sdk>=1.0.0\n",
            "  Downloading sentry_sdk-1.5.4-py2.py3-none-any.whl (143 kB)\n",
            "\u001b[2K     \u001b[90m━━━━━━━━━━━━━━━━━━━━━━━━━━━━━━━━━━━━━━\u001b[0m \u001b[32m143.1/143.1 KB\u001b[0m \u001b[31m14.0 MB/s\u001b[0m eta \u001b[36m0:00:00\u001b[0m\n",
            "\u001b[?25hCollecting yaspin>=1.0.0\n",
            "  Downloading yaspin-2.1.0-py3-none-any.whl (18 kB)\n",
            "Requirement already satisfied: six>=1.13.0 in /usr/local/lib/python3.7/dist-packages (from wandb==0.12.10->-r requirements.txt (line 6)) (1.15.0)\n",
            "Collecting docker-pycreds>=0.4.0\n",
            "  Downloading docker_pycreds-0.4.0-py2.py3-none-any.whl (9.0 kB)\n",
            "Requirement already satisfied: promise<3,>=2.0 in /usr/local/lib/python3.7/dist-packages (from wandb==0.12.10->-r requirements.txt (line 6)) (2.3)\n",
            "Collecting pathtools\n",
            "  Downloading pathtools-0.1.2.tar.gz (11 kB)\n",
            "  Preparing metadata (setup.py) ... \u001b[?25l\u001b[?25hdone\n",
            "Requirement already satisfied: Click!=8.0.0,>=7.0 in /usr/local/lib/python3.7/dist-packages (from wandb==0.12.10->-r requirements.txt (line 6)) (7.1.2)\n",
            "Collecting GitPython>=1.0.0\n",
            "  Downloading GitPython-3.1.26-py3-none-any.whl (180 kB)\n",
            "\u001b[2K     \u001b[90m━━━━━━━━━━━━━━━━━━━━━━━━━━━━━━━━━━━━━━\u001b[0m \u001b[32m180.9/180.9 KB\u001b[0m \u001b[31m17.3 MB/s\u001b[0m eta \u001b[36m0:00:00\u001b[0m\n",
            "\u001b[?25hRequirement already satisfied: python-dateutil>=2.6.1 in /usr/local/lib/python3.7/dist-packages (from wandb==0.12.10->-r requirements.txt (line 6)) (2.8.2)\n",
            "Requirement already satisfied: protobuf>=3.12.0 in /usr/local/lib/python3.7/dist-packages (from wandb==0.12.10->-r requirements.txt (line 6)) (3.17.3)\n",
            "Requirement already satisfied: future in /usr/local/lib/python3.7/dist-packages (from grandalf==0.6->dvc[gdrive]==2.9.3->-r requirements.txt (line 5)) (0.16.0)\n",
            "Collecting dulwich>=0.20.23\n",
            "  Downloading dulwich-0.20.32-cp37-cp37m-manylinux_2_5_x86_64.manylinux1_x86_64.manylinux_2_12_x86_64.manylinux2010_x86_64.whl (548 kB)\n",
            "\u001b[2K     \u001b[90m━━━━━━━━━━━━━━━━━━━━━━━━━━━━━━━━━━━━━━\u001b[0m \u001b[32m548.3/548.3 KB\u001b[0m \u001b[31m24.2 MB/s\u001b[0m eta \u001b[36m0:00:00\u001b[0m\n",
            "\u001b[?25hCollecting pygit2>=1.5.0\n",
            "  Downloading pygit2-1.8.0-cp37-cp37m-manylinux_2_17_x86_64.manylinux2014_x86_64.whl (4.5 MB)\n",
            "\u001b[2K     \u001b[90m━━━━━━━━━━━━━━━━━━━━━━━━━━━━━━━━━━━━━━━━\u001b[0m \u001b[32m4.5/4.5 MB\u001b[0m \u001b[31m53.4 MB/s\u001b[0m eta \u001b[36m0:00:00\u001b[0m\n",
            "\u001b[?25hCollecting asyncssh<2.9,>=2.7.1\n",
            "  Downloading asyncssh-2.8.1-py3-none-any.whl (287 kB)\n",
            "\u001b[2K     \u001b[90m━━━━━━━━━━━━━━━━━━━━━━━━━━━━━━━━━━━━━━\u001b[0m \u001b[32m287.5/287.5 KB\u001b[0m \u001b[31m14.3 MB/s\u001b[0m eta \u001b[36m0:00:00\u001b[0m\n",
            "\u001b[?25hCollecting aiohttp\n",
            "  Downloading aiohttp-3.8.1-cp37-cp37m-manylinux_2_5_x86_64.manylinux1_x86_64.manylinux_2_12_x86_64.manylinux2010_x86_64.whl (1.1 MB)\n",
            "\u001b[2K     \u001b[90m━━━━━━━━━━━━━━━━━━━━━━━━━━━━━━━━━━━━━━━━\u001b[0m \u001b[32m1.1/1.1 MB\u001b[0m \u001b[31m29.5 MB/s\u001b[0m eta \u001b[36m0:00:00\u001b[0m\n",
            "\u001b[?25hCollecting atpublic>=2.3\n",
            "  Downloading atpublic-3.0.1-py3-none-any.whl (4.8 kB)\n",
            "Collecting gitdb<5,>=4.0.1\n",
            "  Downloading gitdb-4.0.9-py3-none-any.whl (63 kB)\n",
            "\u001b[2K     \u001b[90m━━━━━━━━━━━━━━━━━━━━━━━━━━━━━━━━━━━━━━━━\u001b[0m \u001b[32m63.1/63.1 KB\u001b[0m \u001b[31m7.1 MB/s\u001b[0m eta \u001b[36m0:00:00\u001b[0m\n",
            "\u001b[?25hRequirement already satisfied: zipp>=0.5 in /usr/local/lib/python3.7/dist-packages (from importlib-metadata->transformers==4.16.2->-r requirements.txt (line 1)) (3.7.0)\n",
            "Requirement already satisfied: oauth2client>=4.0.0 in /usr/local/lib/python3.7/dist-packages (from pydrive2[fsspec]>=1.9.4->dvc[gdrive]==2.9.3->-r requirements.txt (line 5)) (4.1.3)\n",
            "Collecting pyOpenSSL>=19.1.0\n",
            "  Downloading pyOpenSSL-22.0.0-py2.py3-none-any.whl (55 kB)\n",
            "\u001b[2K     \u001b[90m━━━━━━━━━━━━━━━━━━━━━━━━━━━━━━━━━━━━━━━━\u001b[0m \u001b[32m55.8/55.8 KB\u001b[0m \u001b[31m5.7 MB/s\u001b[0m eta \u001b[36m0:00:00\u001b[0m\n",
            "\u001b[?25hRequirement already satisfied: google-api-python-client>=1.12.5 in /usr/local/lib/python3.7/dist-packages (from pydrive2[fsspec]>=1.9.4->dvc[gdrive]==2.9.3->-r requirements.txt (line 5)) (1.12.10)\n",
            "Collecting python-fsutil\n",
            "  Downloading python_fsutil-0.6.0-py3-none-any.whl (11 kB)\n",
            "Collecting xmltodict\n",
            "  Downloading xmltodict-0.12.0-py2.py3-none-any.whl (9.2 kB)\n",
            "Collecting mailchecker\n",
            "  Downloading mailchecker-4.1.11.tar.gz (229 kB)\n",
            "\u001b[2K     \u001b[90m━━━━━━━━━━━━━━━━━━━━━━━━━━━━━━━━━━━━━━\u001b[0m \u001b[32m229.9/229.9 KB\u001b[0m \u001b[31m12.6 MB/s\u001b[0m eta \u001b[36m0:00:00\u001b[0m\n",
            "\u001b[?25h  Preparing metadata (setup.py) ... \u001b[?25l\u001b[?25hdone\n",
            "Requirement already satisfied: python-slugify in /usr/local/lib/python3.7/dist-packages (from python-benedict>=0.24.2->dvc[gdrive]==2.9.3->-r requirements.txt (line 5)) (5.0.2)\n",
            "Collecting ftfy\n",
            "  Downloading ftfy-6.0.3.tar.gz (64 kB)\n",
            "\u001b[2K     \u001b[90m━━━━━━━━━━━━━━━━━━━━━━━━━━━━━━━━━━━━━━━━\u001b[0m \u001b[32m64.2/64.2 KB\u001b[0m \u001b[31m7.4 MB/s\u001b[0m eta \u001b[36m0:00:00\u001b[0m\n",
            "\u001b[?25h  Preparing metadata (setup.py) ... \u001b[?25l\u001b[?25hdone\n",
            "Collecting phonenumbers\n",
            "  Downloading phonenumbers-8.12.42-py2.py3-none-any.whl (2.6 MB)\n",
            "\u001b[2K     \u001b[90m━━━━━━━━━━━━━━━━━━━━━━━━━━━━━━━━━━━━━━━━\u001b[0m \u001b[32m2.6/2.6 MB\u001b[0m \u001b[31m52.0 MB/s\u001b[0m eta \u001b[36m0:00:00\u001b[0m\n",
            "\u001b[?25hRequirement already satisfied: urllib3!=1.25.0,!=1.25.1,<1.26,>=1.21.1 in /usr/local/lib/python3.7/dist-packages (from requests->transformers==4.16.2->-r requirements.txt (line 1)) (1.24.3)\n",
            "Requirement already satisfied: certifi>=2017.4.17 in /usr/local/lib/python3.7/dist-packages (from requests->transformers==4.16.2->-r requirements.txt (line 1)) (2021.10.8)\n",
            "Requirement already satisfied: chardet<4,>=3.0.2 in /usr/local/lib/python3.7/dist-packages (from requests->transformers==4.16.2->-r requirements.txt (line 1)) (3.0.4)\n",
            "Requirement already satisfied: idna<3,>=2.5 in /usr/local/lib/python3.7/dist-packages (from requests->transformers==4.16.2->-r requirements.txt (line 1)) (2.10)\n",
            "Requirement already satisfied: pygments<3.0.0,>=2.6.0 in /usr/local/lib/python3.7/dist-packages (from rich>=10.13.0->dvc[gdrive]==2.9.3->-r requirements.txt (line 5)) (2.6.1)\n",
            "Collecting commonmark<0.10.0,>=0.9.0\n",
            "  Downloading commonmark-0.9.1-py2.py3-none-any.whl (51 kB)\n",
            "\u001b[2K     \u001b[90m━━━━━━━━━━━━━━━━━━━━━━━━━━━━━━━━━━━━━━━━\u001b[0m \u001b[32m51.1/51.1 KB\u001b[0m \u001b[31m5.7 MB/s\u001b[0m eta \u001b[36m0:00:00\u001b[0m\n",
            "\u001b[?25hCollecting ruamel.yaml.clib>=0.2.6\n",
            "  Downloading ruamel.yaml.clib-0.2.6-cp37-cp37m-manylinux1_x86_64.whl (546 kB)\n",
            "\u001b[2K     \u001b[90m━━━━━━━━━━━━━━━━━━━━━━━━━━━━━━━━━━━━━━\u001b[0m \u001b[32m546.8/546.8 KB\u001b[0m \u001b[31m18.8 MB/s\u001b[0m eta \u001b[36m0:00:00\u001b[0m\n",
            "\u001b[?25hRequirement already satisfied: termcolor<2.0.0,>=1.1.0 in /usr/local/lib/python3.7/dist-packages (from yaspin>=1.0.0->wandb==0.12.10->-r requirements.txt (line 6)) (1.1.0)\n",
            "Requirement already satisfied: setuptools in /usr/local/lib/python3.7/dist-packages (from zc.lockfile>=1.2.1->dvc[gdrive]==2.9.3->-r requirements.txt (line 5)) (57.4.0)\n",
            "Collecting cryptography>=2.8\n",
            "  Downloading cryptography-36.0.1-cp36-abi3-manylinux_2_24_x86_64.whl (3.6 MB)\n",
            "\u001b[2K     \u001b[90m━━━━━━━━━━━━━━━━━━━━━━━━━━━━━━━━━━━━━━━━\u001b[0m \u001b[32m3.6/3.6 MB\u001b[0m \u001b[31m49.8 MB/s\u001b[0m eta \u001b[36m0:00:00\u001b[0m\n",
            "\u001b[?25hCollecting smmap<6,>=3.0.1\n",
            "  Downloading smmap-5.0.0-py3-none-any.whl (24 kB)\n",
            "Requirement already satisfied: google-auth-httplib2>=0.0.3 in /usr/local/lib/python3.7/dist-packages (from google-api-python-client>=1.12.5->pydrive2[fsspec]>=1.9.4->dvc[gdrive]==2.9.3->-r requirements.txt (line 5)) (0.0.4)\n",
            "Requirement already satisfied: google-api-core<3dev,>=1.21.0 in /usr/local/lib/python3.7/dist-packages (from google-api-python-client>=1.12.5->pydrive2[fsspec]>=1.9.4->dvc[gdrive]==2.9.3->-r requirements.txt (line 5)) (1.26.3)\n",
            "Requirement already satisfied: google-auth<3dev,>=1.16.0 in /usr/local/lib/python3.7/dist-packages (from google-api-python-client>=1.12.5->pydrive2[fsspec]>=1.9.4->dvc[gdrive]==2.9.3->-r requirements.txt (line 5)) (1.35.0)\n",
            "Requirement already satisfied: httplib2<1dev,>=0.15.0 in /usr/local/lib/python3.7/dist-packages (from google-api-python-client>=1.12.5->pydrive2[fsspec]>=1.9.4->dvc[gdrive]==2.9.3->-r requirements.txt (line 5)) (0.17.4)\n",
            "Requirement already satisfied: uritemplate<4dev,>=3.0.0 in /usr/local/lib/python3.7/dist-packages (from google-api-python-client>=1.12.5->pydrive2[fsspec]>=1.9.4->dvc[gdrive]==2.9.3->-r requirements.txt (line 5)) (3.0.1)\n",
            "Requirement already satisfied: rsa>=3.1.4 in /usr/local/lib/python3.7/dist-packages (from oauth2client>=4.0.0->pydrive2[fsspec]>=1.9.4->dvc[gdrive]==2.9.3->-r requirements.txt (line 5)) (4.8)\n",
            "Requirement already satisfied: pyasn1-modules>=0.0.5 in /usr/local/lib/python3.7/dist-packages (from oauth2client>=4.0.0->pydrive2[fsspec]>=1.9.4->dvc[gdrive]==2.9.3->-r requirements.txt (line 5)) (0.2.8)\n",
            "Requirement already satisfied: cffi>=1.4.0 in /usr/local/lib/python3.7/dist-packages (from pygit2>=1.5.0->scmrepo==0.0.7->dvc[gdrive]==2.9.3->-r requirements.txt (line 5)) (1.15.0)\n",
            "Requirement already satisfied: cached-property in /usr/local/lib/python3.7/dist-packages (from pygit2>=1.5.0->scmrepo==0.0.7->dvc[gdrive]==2.9.3->-r requirements.txt (line 5)) (1.5.2)\n",
            "Collecting frozenlist>=1.1.1\n",
            "  Downloading frozenlist-1.3.0-cp37-cp37m-manylinux_2_5_x86_64.manylinux1_x86_64.manylinux_2_17_x86_64.manylinux2014_x86_64.whl (144 kB)\n",
            "\u001b[2K     \u001b[90m━━━━━━━━━━━━━━━━━━━━━━━━━━━━━━━━━━━━━━\u001b[0m \u001b[32m144.8/144.8 KB\u001b[0m \u001b[31m14.8 MB/s\u001b[0m eta \u001b[36m0:00:00\u001b[0m\n",
            "\u001b[?25hCollecting asynctest==0.13.0\n",
            "  Downloading asynctest-0.13.0-py3-none-any.whl (26 kB)\n",
            "Collecting aiosignal>=1.1.2\n",
            "  Downloading aiosignal-1.2.0-py3-none-any.whl (8.2 kB)\n",
            "Collecting multidict<7.0,>=4.5\n",
            "  Downloading multidict-6.0.2-cp37-cp37m-manylinux_2_17_x86_64.manylinux2014_x86_64.whl (94 kB)\n",
            "\u001b[2K     \u001b[90m━━━━━━━━━━━━━━━━━━━━━━━━━━━━━━━━━━━━━━━━\u001b[0m \u001b[32m94.8/94.8 KB\u001b[0m \u001b[31m8.7 MB/s\u001b[0m eta \u001b[36m0:00:00\u001b[0m\n",
            "\u001b[?25hCollecting async-timeout<5.0,>=4.0.0a3\n",
            "  Downloading async_timeout-4.0.2-py3-none-any.whl (5.8 kB)\n",
            "Collecting yarl<2.0,>=1.0\n",
            "  Downloading yarl-1.7.2-cp37-cp37m-manylinux_2_5_x86_64.manylinux1_x86_64.manylinux_2_12_x86_64.manylinux2010_x86_64.whl (271 kB)\n",
            "\u001b[2K     \u001b[90m━━━━━━━━━━━━━━━━━━━━━━━━━━━━━━━━━━━━━━\u001b[0m \u001b[32m271.8/271.8 KB\u001b[0m \u001b[31m11.0 MB/s\u001b[0m eta \u001b[36m0:00:00\u001b[0m\n",
            "\u001b[?25hRequirement already satisfied: attrs>=17.3.0 in /usr/local/lib/python3.7/dist-packages (from aiohttp->aiohttp-retry>=2.4.5->dvc[gdrive]==2.9.3->-r requirements.txt (line 5)) (21.4.0)\n",
            "Requirement already satisfied: charset-normalizer<3.0,>=2.0 in /usr/local/lib/python3.7/dist-packages (from aiohttp->aiohttp-retry>=2.4.5->dvc[gdrive]==2.9.3->-r requirements.txt (line 5)) (2.0.11)\n",
            "Requirement already satisfied: wcwidth in /usr/local/lib/python3.7/dist-packages (from ftfy->python-benedict>=0.24.2->dvc[gdrive]==2.9.3->-r requirements.txt (line 5)) (0.2.5)\n",
            "Requirement already satisfied: text-unidecode>=1.3 in /usr/local/lib/python3.7/dist-packages (from python-slugify->python-benedict>=0.24.2->dvc[gdrive]==2.9.3->-r requirements.txt (line 5)) (1.3)\n",
            "Requirement already satisfied: pycparser in /usr/local/lib/python3.7/dist-packages (from cffi>=1.4.0->pygit2>=1.5.0->scmrepo==0.0.7->dvc[gdrive]==2.9.3->-r requirements.txt (line 5)) (2.21)\n",
            "Requirement already satisfied: googleapis-common-protos<2.0dev,>=1.6.0 in /usr/local/lib/python3.7/dist-packages (from google-api-core<3dev,>=1.21.0->google-api-python-client>=1.12.5->pydrive2[fsspec]>=1.9.4->dvc[gdrive]==2.9.3->-r requirements.txt (line 5)) (1.54.0)\n",
            "Requirement already satisfied: pytz in /usr/local/lib/python3.7/dist-packages (from google-api-core<3dev,>=1.21.0->google-api-python-client>=1.12.5->pydrive2[fsspec]>=1.9.4->dvc[gdrive]==2.9.3->-r requirements.txt (line 5)) (2018.9)\n",
            "Requirement already satisfied: cachetools<5.0,>=2.0.0 in /usr/local/lib/python3.7/dist-packages (from google-auth<3dev,>=1.16.0->google-api-python-client>=1.12.5->pydrive2[fsspec]>=1.9.4->dvc[gdrive]==2.9.3->-r requirements.txt (line 5)) (4.2.4)\n",
            "Building wheels for collected packages: configobj, nanotime, pygtrie, voluptuous, pathtools, ftfy, mailchecker\n",
            "  Building wheel for configobj (setup.py) ... \u001b[?25l\u001b[?25hdone\n",
            "  Created wheel for configobj: filename=configobj-5.0.6-py3-none-any.whl size=34547 sha256=0345406cd12f58fa40b87c7be1af75eadfa183c1204e55dc5dc578fa154c51a1\n",
            "  Stored in directory: /root/.cache/pip/wheels/0d/c4/19/13d74440f2a571841db6b6e0a273694327498884dafb9cf978\n",
            "  Building wheel for nanotime (setup.py) ... \u001b[?25l\u001b[?25hdone\n",
            "  Created wheel for nanotime: filename=nanotime-0.5.2-py3-none-any.whl size=2441 sha256=d26f5123455f6aab46fd2d9de42d22df4e697cc6fea16a4ebe414e73d9757063\n",
            "  Stored in directory: /root/.cache/pip/wheels/b8/92/aa/456d462c908b4e210c3928f778d28f94049fc9e47af8b191c9\n",
            "  Building wheel for pygtrie (setup.py) ... \u001b[?25l\u001b[?25hdone\n",
            "  Created wheel for pygtrie: filename=pygtrie-2.4.2-py3-none-any.whl size=19063 sha256=37c522ebe0e5bbad9bf45a4dfe5ea6d0cb85d7027a1784d10d6454b585bcab25\n",
            "  Stored in directory: /root/.cache/pip/wheels/d3/f8/ba/1d828b1603ea422686eb694253a43cb3a5901ea4696c1e0603\n",
            "  Building wheel for voluptuous (setup.py) ... \u001b[?25l\u001b[?25hdone\n",
            "  Created wheel for voluptuous: filename=voluptuous-0.12.2-py3-none-any.whl size=29563 sha256=eea6ac5f49e2066228924ac70441367c264ceaaac9058d290b2cdfd44a26a579\n",
            "  Stored in directory: /root/.cache/pip/wheels/ce/40/e9/5aba7699054584e118b04cc18d4d8f1f15f27af4a0d65ef4b4\n",
            "  Building wheel for pathtools (setup.py) ... \u001b[?25l\u001b[?25hdone\n",
            "  Created wheel for pathtools: filename=pathtools-0.1.2-py3-none-any.whl size=8806 sha256=15ef384a5e0456d06a9c014640910fe2115c705592045d7bbb3fb863f7344a5d\n",
            "  Stored in directory: /root/.cache/pip/wheels/3e/31/09/fa59cef12cdcfecc627b3d24273699f390e71828921b2cbba2\n",
            "  Building wheel for ftfy (setup.py) ... \u001b[?25l\u001b[?25hdone\n",
            "  Created wheel for ftfy: filename=ftfy-6.0.3-py3-none-any.whl size=41933 sha256=a4ff89ac596fdca44b60c76efd40af8091aedea2b329e306a2b47af6c779a170\n",
            "  Stored in directory: /root/.cache/pip/wheels/19/f5/38/273eb3b5e76dfd850619312f693716ac4518b498f5ffb6f56d\n",
            "  Building wheel for mailchecker (setup.py) ... \u001b[?25l\u001b[?25hdone\n",
            "  Created wheel for mailchecker: filename=mailchecker-4.1.11-py3-none-any.whl size=230040 sha256=ffcb6abec698539f2761af23623200c6331012679e59c082d5299354b5e4446e\n",
            "  Stored in directory: /root/.cache/pip/wheels/fa/3c/6b/d3a46e83330a794ee6db89fb2e79d5c119c6798d8d52c61118\n",
            "Successfully built configobj nanotime pygtrie voluptuous pathtools ftfy mailchecker\n",
            "Installing collected packages: voluptuous, tokenizers, python-fsutil, pygtrie, ply, phonenumbers, pathtools, nanotime, mailchecker, funcy, distro, dictdiffer, commonmark, zc.lockfile, yaspin, xmltodict, torch, smmap, shtab, shortuuid, sentry-sdk, sacremoses, ruamel.yaml.clib, pyyaml, psutil, pathspec, multidict, grandalf, ftfy, fsspec, frozenlist, dulwich, dpath, docker-pycreds, diskcache, configobj, colorama, atpublic, asynctest, async-timeout, yarl, ruamel.yaml, rich, python-benedict, pygit2, huggingface-hub, gitdb, flufl.lock, flatten-dict, cryptography, aiosignal, transformers, pyOpenSSL, GitPython, asyncssh, aiohttp, wandb, scmrepo, aiohttp-retry, pydrive2, dvc\n",
            "  Attempting uninstall: torch\n",
            "    Found existing installation: torch 1.10.0+cu111\n",
            "    Uninstalling torch-1.10.0+cu111:\n",
            "      Successfully uninstalled torch-1.10.0+cu111\n",
            "  Attempting uninstall: pyyaml\n",
            "    Found existing installation: PyYAML 3.13\n",
            "    Uninstalling PyYAML-3.13:\n",
            "      Successfully uninstalled PyYAML-3.13\n",
            "  Attempting uninstall: psutil\n",
            "    Found existing installation: psutil 5.4.8\n",
            "    Uninstalling psutil-5.4.8:\n",
            "      Successfully uninstalled psutil-5.4.8\n",
            "\u001b[31mERROR: pip's dependency resolver does not currently take into account all the packages that are installed. This behaviour is the source of the following dependency conflicts.\n",
            "torchvision 0.11.1+cu111 requires torch==1.10.0, but you have torch 1.10.2 which is incompatible.\n",
            "torchtext 0.11.0 requires torch==1.10.0, but you have torch 1.10.2 which is incompatible.\n",
            "torchaudio 0.10.0+cu111 requires torch==1.10.0, but you have torch 1.10.2 which is incompatible.\u001b[0m\u001b[31m\n",
            "\u001b[0mSuccessfully installed GitPython-3.1.26 aiohttp-3.8.1 aiohttp-retry-2.4.6 aiosignal-1.2.0 async-timeout-4.0.2 asyncssh-2.8.1 asynctest-0.13.0 atpublic-3.0.1 colorama-0.4.4 commonmark-0.9.1 configobj-5.0.6 cryptography-36.0.1 dictdiffer-0.9.0 diskcache-5.4.0 distro-1.6.0 docker-pycreds-0.4.0 dpath-2.0.6 dulwich-0.20.32 dvc-2.9.3 flatten-dict-0.4.2 flufl.lock-7.0 frozenlist-1.3.0 fsspec-2022.1.0 ftfy-6.0.3 funcy-1.17 gitdb-4.0.9 grandalf-0.6 huggingface-hub-0.4.0 mailchecker-4.1.11 multidict-6.0.2 nanotime-0.5.2 pathspec-0.9.0 pathtools-0.1.2 phonenumbers-8.12.42 ply-3.11 psutil-5.9.0 pyOpenSSL-22.0.0 pydrive2-1.10.0 pygit2-1.8.0 pygtrie-2.4.2 python-benedict-0.24.3 python-fsutil-0.6.0 pyyaml-6.0 rich-11.1.0 ruamel.yaml-0.17.20 ruamel.yaml.clib-0.2.6 sacremoses-0.0.47 scmrepo-0.0.7 sentry-sdk-1.5.4 shortuuid-1.0.8 shtab-1.5.3 smmap-5.0.0 tokenizers-0.11.4 torch-1.10.2 transformers-4.16.2 voluptuous-0.12.2 wandb-0.12.10 xmltodict-0.12.0 yarl-1.7.2 yaspin-2.1.0 zc.lockfile-2.0\n",
            "\u001b[33mWARNING: Running pip as the 'root' user can result in broken permissions and conflicting behaviour with the system package manager. It is recommended to use a virtual environment instead: https://pip.pypa.io/warnings/venv\u001b[0m\u001b[33m\n",
            "\u001b[0m"
          ]
        }
      ]
    },
    {
      "cell_type": "code",
      "source": [
        "pwd"
      ],
      "metadata": {
        "colab": {
          "base_uri": "https://localhost:8080/",
          "height": 36
        },
        "id": "a-7fKV3BOboc",
        "outputId": "51dc438d-af50-46bf-d2d1-8cd81c205831"
      },
      "execution_count": 8,
      "outputs": [
        {
          "output_type": "execute_result",
          "data": {
            "application/vnd.google.colaboratory.intrinsic+json": {
              "type": "string"
            },
            "text/plain": [
              "'/content/BertHuggingFaceTrainer'"
            ]
          },
          "metadata": {},
          "execution_count": 8
        }
      ]
    },
    {
      "cell_type": "markdown",
      "source": [
        "### Getting Pretrained model and data files from DVC"
      ],
      "metadata": {
        "id": "kZ-IUtvx1S5-"
      }
    },
    {
      "cell_type": "code",
      "source": [
        "cd BertHuggingFaceTrainer/"
      ],
      "metadata": {
        "colab": {
          "base_uri": "https://localhost:8080/"
        },
        "id": "7P-3xUEDOmRx",
        "outputId": "64d1f8d8-3cdf-4b8c-e4bd-7842d1b9e0b6"
      },
      "execution_count": 9,
      "outputs": [
        {
          "output_type": "stream",
          "name": "stdout",
          "text": [
            "[Errno 2] No such file or directory: 'BertHuggingFaceTrainer/'\n",
            "/content/BertHuggingFaceTrainer\n"
          ]
        }
      ]
    },
    {
      "cell_type": "code",
      "source": [
        "!dvc pull dvcfiles.dvc"
      ],
      "metadata": {
        "colab": {
          "base_uri": "https://localhost:8080/"
        },
        "id": "6ZTGuU7nwSdk",
        "outputId": "3892167b-7007-4d09-be35-f42f464c37b3"
      },
      "execution_count": 10,
      "outputs": [
        {
          "output_type": "stream",
          "name": "stdout",
          "text": [
            "\r!\rIf DVC froze, see `hardlink_lock` in <\u001b[36mhttps://man.dvc.org/config#core\u001b[39m>\r                                                                      \r\r  0% 0.00/1.00 [00:00<?, ?file/s]\r  0% 0.00/1.00 [00:00<?, ?file/s{'info': ''}]\r                                             \r\rQuerying remote cache:   0% 0/1 [00:00<?, ?file/s]\rQuerying remote cache:   0% 0/1 [00:00<?, ?file/s{'info': ''}]Go to the following link in your browser:\n",
            "\n",
            "    https://accounts.google.com/o/oauth2/auth?client_id=710796635688-iivsgbgsb6uv1fap6635dhvuei09o66c.apps.googleusercontent.com&redirect_uri=urn%3Aietf%3Awg%3Aoauth%3A2.0%3Aoob&scope=https%3A%2F%2Fwww.googleapis.com%2Fauth%2Fdrive+https%3A%2F%2Fwww.googleapis.com%2Fauth%2Fdrive.appdata&access_type=offline&response_type=code&approval_prompt=force\n",
            "\n",
            "Enter verification code: 4/1AX4XfWg-FGtHcTMAGmh2992UNoj1VWgbeU0mi9YOfKAZH8fQcPOdKEjQZlA\n",
            "Authentication successful.\n",
            "Transferring:   0% 0/1 [00:00<?, ?file/s{'info': ''}]\n",
            "!\u001b[A\n",
            "  0%|          |dfbb0d8ec5cf44f7d7099fa581222f.dir 0.00/? [00:00<?,        ?B/s]\u001b[A\n",
            "dfbb0d8ec5cf44f7d7099fa581222f.dir:   0% 0.00/729 [00:00<?, ?B/s{'info': ''}]   \u001b[A\n",
            "100% 729/729 [00:00<00:00, 765B/s{'info': ''}]                               \u001b[A\n",
            "Transferring:   0% 0/7 [00:00<?, ?file/s{'info': ''}]\n",
            "!\u001b[A\n",
            "  0%|          |97b42698d3b5f6d8e8011eba3d1611     0.00/? [00:00<?,        ?B/s]\u001b[A\n",
            "\n",
            "\n",
            "\n",
            "!\u001b[A\u001b[A\u001b[A\u001b[A\n",
            "\n",
            "\n",
            "\n",
            "  0%|          |4c83b937c07136af3334391194bdf6     0.00/? [00:00<?,        ?B/s]\u001b[A\u001b[A\u001b[A\u001b[A\n",
            "\n",
            "\n",
            "\n",
            "\n",
            "!\u001b[A\u001b[A\u001b[A\u001b[A\u001b[A\n",
            "\n",
            "\n",
            "\n",
            "\n",
            "  0%|          |1d8cd98f00b204e9800998ecf8427e     0.00/? [00:00<?,        ?B/s]\u001b[A\u001b[A\u001b[A\u001b[A\u001b[A\n",
            "\n",
            "\n",
            "  0%|          |800d5d8528ce344256daf115d4965e     0.00/? [00:00<?,        ?B/s]\u001b[A\u001b[A\u001b[A\n",
            "\n",
            "  0%|          |92867bdca31420a06558ac2051260c     0.00/? [00:00<?,        ?B/s]\u001b[A\u001b[A\n",
            "\n",
            "\n",
            "\n",
            "\n",
            "\n",
            "!\u001b[A\u001b[A\u001b[A\u001b[A\u001b[A\u001b[A\n",
            "\n",
            "\n",
            "\n",
            "\n",
            "\n",
            "  0%|          |39b914fc32135f6c12d8ef281dbd7a     0.00/? [00:00<?,        ?B/s]\u001b[A\u001b[A\u001b[A\u001b[A\u001b[A\u001b[A\n",
            "\n",
            "\n",
            "\n",
            "\n",
            "\n",
            "\n",
            "!\u001b[A\u001b[A\u001b[A\u001b[A\u001b[A\u001b[A\u001b[A\n",
            "\n",
            "\n",
            "\n",
            "\n",
            "\n",
            "\n",
            "  0%|          |2f548c2c8485c736865bb072692f6b     0.00/? [00:00<?,        ?B/s]\u001b[A\u001b[A\u001b[A\u001b[A\u001b[A\u001b[A\u001b[A\n",
            "\n",
            "\n",
            "\n",
            "4c83b937c07136af3334391194bdf6:   0% 0.00/38.0 [00:00<?, ?B/s{'info': ''}]      \u001b[A\u001b[A\u001b[A\u001b[A\n",
            "\n",
            "\n",
            "800d5d8528ce344256daf115d4965e:   0% 0.00/226k [00:00<?, ?B/s{'info': ''}]      \u001b[A\u001b[A\u001b[A\n",
            "\n",
            "92867bdca31420a06558ac2051260c:   0% 0.00/150M [00:00<?, ?B/s{'info': ''}]      \u001b[A\u001b[A\n",
            "\n",
            "\n",
            "\n",
            "\n",
            "\n",
            "39b914fc32135f6c12d8ef281dbd7a:   0% 0.00/570 [00:00<?, ?B/s{'info': ''}]       \u001b[A\u001b[A\u001b[A\u001b[A\u001b[A\u001b[A\n",
            "\n",
            "\n",
            "\n",
            "\n",
            "  0%|          |1d8cd98f00b204e9800998ecf8427e  0.00/0.00 [00:00<?,        ?B/s]\u001b[A\u001b[A\u001b[A\u001b[A\u001b[A\n",
            "97b42698d3b5f6d8e8011eba3d1611:   0% 0.00/420M [00:00<?, ?B/s{'info': ''}]      \u001b[A\n",
            "\n",
            "\n",
            "\n",
            "\n",
            "\n",
            "\n",
            "2f548c2c8485c736865bb072692f6b:   0% 0.00/14.5M [00:00<?, ?B/s{'info': ''}]     \u001b[A\u001b[A\u001b[A\u001b[A\u001b[A\u001b[A\u001b[A\n",
            "\n",
            "\n",
            "\n",
            "\n",
            "Transferring:  14% 1/7 [00:00<00:03,  1.83file/s{'info': ''}]\n",
            "\n",
            "\n",
            "\n",
            "\n",
            "\n",
            "39b914fc32135f6c12d8ef281dbd7a: 100% 570/570 [00:00<00:00, 1.02kB/s{'info': ''}]\u001b[A\u001b[A\u001b[A\u001b[A\u001b[A\u001b[A\n",
            "\n",
            "\n",
            "\n",
            "\n",
            "\n",
            "                                                                                \u001b[A\u001b[A\u001b[A\u001b[A\u001b[A\u001b[A\n",
            "\n",
            "\n",
            "100% 226k/226k [00:00<00:00, 364kB/s{'info': ''}]                         \u001b[A\u001b[A\u001b[A\n",
            "\n",
            "\n",
            "Transferring:  43% 3/7 [00:00<00:00,  5.54file/s{'info': ''}]\n",
            "\n",
            "\n",
            "\n",
            "100% 38.0/38.0 [00:01<00:00, 35.7B/s{'info': ''}]                         \u001b[A\u001b[A\u001b[A\u001b[A\n",
            "\n",
            "\n",
            "\n",
            "                                                 \u001b[A\u001b[A\u001b[A\u001b[A\n",
            " 24% 100M/420M [00:01<00:06, 53.8MB/s{'info': ''}]                        \u001b[A\n",
            "\n",
            " 67% 100M/150M [00:02<00:01, 49.2MB/s{'info': ''}]                        \u001b[A\u001b[A\n",
            "\n",
            "\n",
            "\n",
            "\n",
            "\n",
            "\n",
            "100% 14.5M/14.5M [00:02<00:00, 5.95MB/s{'info': ''}]                       \u001b[A\u001b[A\u001b[A\u001b[A\u001b[A\u001b[A\u001b[A\n",
            "\n",
            "\n",
            "\n",
            "\n",
            "\n",
            "\n",
            "Transferring:  71% 5/7 [00:02<00:01,  1.61file/s{'info': ''}]\n",
            " 48% 200M/420M [00:03<00:03, 67.6MB/s{'info': ''}]\u001b[A\n",
            "\n",
            "100% 150M/150M [00:03<00:00, 46.2MB/s{'info': ''}]\u001b[A\u001b[A\n",
            "\n",
            "Transferring:  86% 6/7 [00:04<00:00,  1.21file/s{'info': ''}]\n",
            " 71% 300M/420M [00:04<00:01, 74.3MB/s{'info': ''}]\u001b[A\n",
            " 95% 400M/420M [00:05<00:00, 72.9MB/s{'info': ''}]\u001b[A\n",
            "100% 420M/420M [00:06<00:00, 68.5MB/s{'info': ''}]\u001b[A\n",
            "Checkout:   0% 0/8 [00:00<?, ?file/s{'info': ''}]\n",
            "!\u001b[A\n",
            "  0%|          |.6CbYUEekqL4yMueTgZp37L.tmp        0.00/? [00:00<?,        ?B/s]\u001b[A\n",
            ".6CbYUEekqL4yMueTgZp37L.tmp:   0% 0.00/4.00 [00:00<?, ?B/s{'info': ''}]         \u001b[A\n",
            ".6CbYUEekqL4yMueTgZp37L.tmp:   0% 0.00/4.00 [00:00<?, ?B/s{'info': ''}]\u001b[A\n",
            "                                                                       \u001b[A\n",
            "!\u001b[A\n",
            "  0%|          |1d8cd98f00b204e9800998ecf8427e     0.00/? [00:00<?,        ?B/s]\u001b[A\n",
            "  0%|          |1d8cd98f00b204e9800998ecf8427e  0.00/0.00 [00:00<?,        ?B/s]\u001b[A\n",
            "  0%|          |1d8cd98f00b204e9800998ecf8427e  0.00/0.00 [00:00<?,        ?B/s]\u001b[A\n",
            "                                                                                \u001b[A\n",
            "!\u001b[A\n",
            "  0%|          |800d5d8528ce344256daf115d4965e     0.00/? [00:00<?,        ?B/s]\u001b[A\n",
            "800d5d8528ce344256daf115d4965e:   0% 0.00/226k [00:00<?, ?B/s{'info': ''}]      \u001b[A\n",
            "800d5d8528ce344256daf115d4965e:   0% 0.00/226k [00:00<?, ?B/s{'info': ''}]\u001b[A\n",
            "                                                                          \u001b[A\n",
            "!\u001b[A\n",
            "  0%|          |92867bdca31420a06558ac2051260c     0.00/? [00:00<?,        ?B/s]\u001b[A\n",
            "92867bdca31420a06558ac2051260c:   0% 0.00/150M [00:00<?, ?B/s{'info': ''}]      \u001b[A\n",
            "92867bdca31420a06558ac2051260c:   0% 0.00/150M [00:00<?, ?B/s{'info': ''}]\u001b[A\n",
            " 29% 43.0M/150M [00:00<00:00, 437MB/s{'info': ''}]                        \u001b[A\n",
            " 41% 61.0M/150M [00:00<00:00, 288MB/s{'info': ''}]\u001b[A\n",
            " 53% 80.0M/150M [00:00<00:00, 247MB/s{'info': ''}]\u001b[A\n",
            " 70% 105M/150M [00:00<00:00, 250MB/s{'info': ''}] \u001b[A\n",
            " 89% 133M/150M [00:00<00:00, 260MB/s{'info': ''}]\u001b[A\n",
            " 38% 3/8 [00:00<00:01,  4.72file/s{'info': ' /content/BertHuggingFaceTrainer/dvcfiles/dataset/ner.csv |'}]\n",
            "!\u001b[A\n",
            "  0%|          |4c83b937c07136af3334391194bdf6     0.00/? [00:00<?,        ?B/s]\u001b[A\n",
            "4c83b937c07136af3334391194bdf6:   0% 0.00/38.0 [00:00<?, ?B/s{'info': ''}]      \u001b[A\n",
            "4c83b937c07136af3334391194bdf6:   0% 0.00/38.0 [00:00<?, ?B/s{'info': ''}]\u001b[A\n",
            "                                                                          \u001b[A\n",
            "!\u001b[A\n",
            "  0%|          |2f548c2c8485c736865bb072692f6b     0.00/? [00:00<?,        ?B/s]\u001b[A\n",
            "2f548c2c8485c736865bb072692f6b:   0% 0.00/14.5M [00:00<?, ?B/s{'info': ''}]     \u001b[A\n",
            "2f548c2c8485c736865bb072692f6b:   0% 0.00/14.5M [00:00<?, ?B/s{'info': ''}]\u001b[A\n",
            "                                                                           \u001b[A\n",
            "!\u001b[A\n",
            "  0%|          |97b42698d3b5f6d8e8011eba3d1611     0.00/? [00:00<?,        ?B/s]\u001b[A\n",
            "97b42698d3b5f6d8e8011eba3d1611:   0% 0.00/420M [00:00<?, ?B/s{'info': ''}]      \u001b[A\n",
            "97b42698d3b5f6d8e8011eba3d1611:   0% 0.00/420M [00:00<?, ?B/s{'info': ''}]\u001b[A\n",
            "  6% 25.0M/420M [00:00<00:01, 253MB/s{'info': ''}]                        \u001b[A\n",
            " 12% 51.0M/420M [00:00<00:01, 259MB/s{'info': ''}]\u001b[A\n",
            " 18% 76.0M/420M [00:00<00:01, 259MB/s{'info': ''}]\u001b[A\n",
            " 24% 99.0M/420M [00:00<00:01, 252MB/s{'info': ''}]\u001b[A\n",
            " 30% 124M/420M [00:00<00:01, 254MB/s{'info': ''}] \u001b[A\n",
            " 36% 151M/420M [00:00<00:01, 263MB/s{'info': ''}]\u001b[A\n",
            " 43% 179M/420M [00:00<00:00, 270MB/s{'info': ''}]\u001b[A\n",
            " 49% 205M/420M [00:00<00:00, 271MB/s{'info': ''}]\u001b[A\n",
            " 55% 233M/420M [00:00<00:00, 276MB/s{'info': ''}]\u001b[A\n",
            " 61% 258M/420M [00:01<00:00, 271MB/s{'info': ''}]\u001b[A\n",
            " 68% 284M/420M [00:01<00:00, 270MB/s{'info': ''}]\u001b[A\n",
            " 74% 310M/420M [00:01<00:00, 271MB/s{'info': ''}]\u001b[A\n",
            " 80% 337M/420M [00:01<00:00, 271MB/s{'info': ''}]\u001b[A\n",
            " 87% 367M/420M [00:01<00:00, 282MB/s{'info': ''}]\u001b[A\n",
            " 93% 389M/420M [00:01<00:00, 261MB/s{'info': ''}]\u001b[A\n",
            " 99% 415M/420M [00:01<00:00, 264MB/s{'info': ''}]\u001b[A\n",
            " 75% 6/8 [00:02<00:00,  2.36file/s{'info': ' /content/BertHuggingFaceTrainer/dvcfiles/base_model/bert-base-uncased/pytorch_model.bin |'}]\n",
            "!\u001b[A\n",
            "  0%|          |1d8cd98f00b204e9800998ecf8427e     0.00/? [00:00<?,        ?B/s]\u001b[A\n",
            "  0%|          |1d8cd98f00b204e9800998ecf8427e  0.00/0.00 [00:00<?,        ?B/s]\u001b[A\n",
            "  0%|          |1d8cd98f00b204e9800998ecf8427e  0.00/0.00 [00:00<?,        ?B/s]\u001b[A\n",
            "                                                                                \u001b[A\n",
            "!\u001b[A\n",
            "  0%|          |39b914fc32135f6c12d8ef281dbd7a     0.00/? [00:00<?,        ?B/s]\u001b[A\n",
            "39b914fc32135f6c12d8ef281dbd7a:   0% 0.00/570 [00:00<?, ?B/s{'info': ''}]       \u001b[A\n",
            "39b914fc32135f6c12d8ef281dbd7a:   0% 0.00/570 [00:00<?, ?B/s{'info': ''}]\u001b[A\n",
            "\u001b[32mA\u001b[0m       dvcfiles/\n",
            "1 file added and 7 files fetched\n",
            "\u001b[0m"
          ]
        }
      ]
    },
    {
      "cell_type": "markdown",
      "source": [
        "### Verify data"
      ],
      "metadata": {
        "id": "jD1DRWh91aYi"
      }
    },
    {
      "cell_type": "code",
      "source": [
        "import pandas as pd\n",
        "import config\n",
        "pd.read_csv(config.TRAIN_DATA_PATH, encoding = 'latin-1').head()"
      ],
      "metadata": {
        "colab": {
          "base_uri": "https://localhost:8080/",
          "height": 206
        },
        "id": "tIVGxzl4v923",
        "outputId": "ab168a93-f7f7-4d5e-d05e-5e484a7215aa"
      },
      "execution_count": 11,
      "outputs": [
        {
          "output_type": "execute_result",
          "data": {
            "text/html": [
              "\n",
              "  <div id=\"df-8690c2ed-3aa5-4ad9-8b07-7606aa5bb569\">\n",
              "    <div class=\"colab-df-container\">\n",
              "      <div>\n",
              "<style scoped>\n",
              "    .dataframe tbody tr th:only-of-type {\n",
              "        vertical-align: middle;\n",
              "    }\n",
              "\n",
              "    .dataframe tbody tr th {\n",
              "        vertical-align: top;\n",
              "    }\n",
              "\n",
              "    .dataframe thead th {\n",
              "        text-align: right;\n",
              "    }\n",
              "</style>\n",
              "<table border=\"1\" class=\"dataframe\">\n",
              "  <thead>\n",
              "    <tr style=\"text-align: right;\">\n",
              "      <th></th>\n",
              "      <th>Sentence #</th>\n",
              "      <th>Word</th>\n",
              "      <th>POS</th>\n",
              "      <th>Tag</th>\n",
              "    </tr>\n",
              "  </thead>\n",
              "  <tbody>\n",
              "    <tr>\n",
              "      <th>0</th>\n",
              "      <td>Sentence: 1</td>\n",
              "      <td>Thousands</td>\n",
              "      <td>NNS</td>\n",
              "      <td>O</td>\n",
              "    </tr>\n",
              "    <tr>\n",
              "      <th>1</th>\n",
              "      <td>NaN</td>\n",
              "      <td>of</td>\n",
              "      <td>IN</td>\n",
              "      <td>O</td>\n",
              "    </tr>\n",
              "    <tr>\n",
              "      <th>2</th>\n",
              "      <td>NaN</td>\n",
              "      <td>demonstrators</td>\n",
              "      <td>NNS</td>\n",
              "      <td>O</td>\n",
              "    </tr>\n",
              "    <tr>\n",
              "      <th>3</th>\n",
              "      <td>NaN</td>\n",
              "      <td>have</td>\n",
              "      <td>VBP</td>\n",
              "      <td>O</td>\n",
              "    </tr>\n",
              "    <tr>\n",
              "      <th>4</th>\n",
              "      <td>NaN</td>\n",
              "      <td>marched</td>\n",
              "      <td>VBN</td>\n",
              "      <td>O</td>\n",
              "    </tr>\n",
              "  </tbody>\n",
              "</table>\n",
              "</div>\n",
              "      <button class=\"colab-df-convert\" onclick=\"convertToInteractive('df-8690c2ed-3aa5-4ad9-8b07-7606aa5bb569')\"\n",
              "              title=\"Convert this dataframe to an interactive table.\"\n",
              "              style=\"display:none;\">\n",
              "        \n",
              "  <svg xmlns=\"http://www.w3.org/2000/svg\" height=\"24px\"viewBox=\"0 0 24 24\"\n",
              "       width=\"24px\">\n",
              "    <path d=\"M0 0h24v24H0V0z\" fill=\"none\"/>\n",
              "    <path d=\"M18.56 5.44l.94 2.06.94-2.06 2.06-.94-2.06-.94-.94-2.06-.94 2.06-2.06.94zm-11 1L8.5 8.5l.94-2.06 2.06-.94-2.06-.94L8.5 2.5l-.94 2.06-2.06.94zm10 10l.94 2.06.94-2.06 2.06-.94-2.06-.94-.94-2.06-.94 2.06-2.06.94z\"/><path d=\"M17.41 7.96l-1.37-1.37c-.4-.4-.92-.59-1.43-.59-.52 0-1.04.2-1.43.59L10.3 9.45l-7.72 7.72c-.78.78-.78 2.05 0 2.83L4 21.41c.39.39.9.59 1.41.59.51 0 1.02-.2 1.41-.59l7.78-7.78 2.81-2.81c.8-.78.8-2.07 0-2.86zM5.41 20L4 18.59l7.72-7.72 1.47 1.35L5.41 20z\"/>\n",
              "  </svg>\n",
              "      </button>\n",
              "      \n",
              "  <style>\n",
              "    .colab-df-container {\n",
              "      display:flex;\n",
              "      flex-wrap:wrap;\n",
              "      gap: 12px;\n",
              "    }\n",
              "\n",
              "    .colab-df-convert {\n",
              "      background-color: #E8F0FE;\n",
              "      border: none;\n",
              "      border-radius: 50%;\n",
              "      cursor: pointer;\n",
              "      display: none;\n",
              "      fill: #1967D2;\n",
              "      height: 32px;\n",
              "      padding: 0 0 0 0;\n",
              "      width: 32px;\n",
              "    }\n",
              "\n",
              "    .colab-df-convert:hover {\n",
              "      background-color: #E2EBFA;\n",
              "      box-shadow: 0px 1px 2px rgba(60, 64, 67, 0.3), 0px 1px 3px 1px rgba(60, 64, 67, 0.15);\n",
              "      fill: #174EA6;\n",
              "    }\n",
              "\n",
              "    [theme=dark] .colab-df-convert {\n",
              "      background-color: #3B4455;\n",
              "      fill: #D2E3FC;\n",
              "    }\n",
              "\n",
              "    [theme=dark] .colab-df-convert:hover {\n",
              "      background-color: #434B5C;\n",
              "      box-shadow: 0px 1px 3px 1px rgba(0, 0, 0, 0.15);\n",
              "      filter: drop-shadow(0px 1px 2px rgba(0, 0, 0, 0.3));\n",
              "      fill: #FFFFFF;\n",
              "    }\n",
              "  </style>\n",
              "\n",
              "      <script>\n",
              "        const buttonEl =\n",
              "          document.querySelector('#df-8690c2ed-3aa5-4ad9-8b07-7606aa5bb569 button.colab-df-convert');\n",
              "        buttonEl.style.display =\n",
              "          google.colab.kernel.accessAllowed ? 'block' : 'none';\n",
              "\n",
              "        async function convertToInteractive(key) {\n",
              "          const element = document.querySelector('#df-8690c2ed-3aa5-4ad9-8b07-7606aa5bb569');\n",
              "          const dataTable =\n",
              "            await google.colab.kernel.invokeFunction('convertToInteractive',\n",
              "                                                     [key], {});\n",
              "          if (!dataTable) return;\n",
              "\n",
              "          const docLinkHtml = 'Like what you see? Visit the ' +\n",
              "            '<a target=\"_blank\" href=https://colab.research.google.com/notebooks/data_table.ipynb>data table notebook</a>'\n",
              "            + ' to learn more about interactive tables.';\n",
              "          element.innerHTML = '';\n",
              "          dataTable['output_type'] = 'display_data';\n",
              "          await google.colab.output.renderOutput(dataTable, element);\n",
              "          const docLink = document.createElement('div');\n",
              "          docLink.innerHTML = docLinkHtml;\n",
              "          element.appendChild(docLink);\n",
              "        }\n",
              "      </script>\n",
              "    </div>\n",
              "  </div>\n",
              "  "
            ],
            "text/plain": [
              "    Sentence #           Word  POS Tag\n",
              "0  Sentence: 1      Thousands  NNS   O\n",
              "1          NaN             of   IN   O\n",
              "2          NaN  demonstrators  NNS   O\n",
              "3          NaN           have  VBP   O\n",
              "4          NaN        marched  VBN   O"
            ]
          },
          "metadata": {},
          "execution_count": 11
        }
      ]
    },
    {
      "cell_type": "markdown",
      "source": [
        "### Start training"
      ],
      "metadata": {
        "id": "OrmWqKA61cc7"
      }
    },
    {
      "cell_type": "code",
      "source": [
        "!python train.py"
      ],
      "metadata": {
        "colab": {
          "base_uri": "https://localhost:8080/"
        },
        "id": "HWWL_c4ruvz5",
        "outputId": "b0aed3f3-4a85-4639-f6e5-c22fe69cb6be"
      },
      "execution_count": 12,
      "outputs": [
        {
          "output_type": "stream",
          "name": "stdout",
          "text": [
            "\u001b[34m\u001b[1mwandb\u001b[0m: (1) Create a W&B account\n",
            "\u001b[34m\u001b[1mwandb\u001b[0m: (2) Use an existing W&B account\n",
            "\u001b[34m\u001b[1mwandb\u001b[0m: (3) Don't visualize my results\n",
            "\u001b[34m\u001b[1mwandb\u001b[0m: Enter your choice: 2\n",
            "\u001b[34m\u001b[1mwandb\u001b[0m: You chose 'Use an existing W&B account'\n",
            "\u001b[34m\u001b[1mwandb\u001b[0m: You can find your API key in your browser here: https://wandb.ai/authorize\n",
            "\u001b[34m\u001b[1mwandb\u001b[0m: Paste an API key from your profile and hit enter, or press ctrl+c to quit: \n",
            "\u001b[34m\u001b[1mwandb\u001b[0m: Appending key for api.wandb.ai to your netrc file: /root/.netrc\n",
            "\u001b[34m\u001b[1mwandb\u001b[0m: Tracking run with wandb version 0.12.10\n",
            "\u001b[34m\u001b[1mwandb\u001b[0m: Syncing run \u001b[33mwhole-pyramid-4\u001b[0m\n",
            "\u001b[34m\u001b[1mwandb\u001b[0m: ⭐️ View project at \u001b[34m\u001b[4mhttps://wandb.ai/sachinkun21/BERTNerHF\u001b[0m\n",
            "\u001b[34m\u001b[1mwandb\u001b[0m: 🚀 View run at \u001b[34m\u001b[4mhttps://wandb.ai/sachinkun21/BERTNerHF/runs/34qg736o\u001b[0m\n",
            "\u001b[34m\u001b[1mwandb\u001b[0m: Run data is saved locally in /content/BertHuggingFaceTrainer/wandb/run-20220208_110929-34qg736o\n",
            "\u001b[34m\u001b[1mwandb\u001b[0m: Run `wandb offline` to turn off syncing.\n",
            "\n",
            "--> Reading dataset from dvcfiles/dataset/ner_dataset.csv for training\n",
            "--> Fitting LabelEncoder on entities and pos\n",
            "--> Saving the labelEncoder at label_encoder.joblib for inference.\n",
            "--> Number of NER Classes 17\t\tNumber of POS Classes 42\n",
            "--> Creating Dataloaders with TRAIN_BATCH_SIZE: 64 and VAL_BATCH_SIZE: 32\n",
            "--> Using cuda for training\n",
            "--> Initializing the NERModel and setting optimizer\n",
            "--> Starting training for 5 Epochs: \n",
            "100% 600/600 [24:47<00:00,  2.48s/it]\n",
            "100% 300/300 [02:28<00:00,  2.18it/s]Epoch: 0       TrainLoss:0.33845704118410747       ValLoss0.11970075741410255\n",
            "--> Saving Model at dvcfiles/finetuned_model/pytorch_model.bin\n",
            "100% 300/300 [02:28<00:00,  2.02it/s]\n",
            "100% 600/600 [24:59<00:00,  2.50s/it]\n",
            "100% 300/300 [02:28<00:00,  2.03it/s]\n",
            "Epoch: 1       TrainLoss:0.11128463581204415       ValLoss0.10381921971837679\n",
            "--> Saving Model at dvcfiles/finetuned_model/pytorch_model.bin\n",
            "100% 600/600 [24:57<00:00,  2.50s/it]\n",
            "100% 300/300 [02:28<00:00,  2.02it/s]\n",
            "Epoch: 2       TrainLoss:0.09038959460953871       ValLoss0.09802978663394848\n",
            "--> Saving Model at dvcfiles/finetuned_model/pytorch_model.bin\n",
            "100% 600/600 [24:59<00:00,  2.50s/it]\n",
            "100% 300/300 [02:28<00:00,  2.03it/s]\n",
            "Epoch: 3       TrainLoss:0.07862089320396383       ValLoss0.09655202984809876\n",
            "--> Saving Model at dvcfiles/finetuned_model/pytorch_model.bin\n",
            "100% 600/600 [24:53<00:00,  2.49s/it]\n",
            "100% 300/300 [02:26<00:00,  2.04it/s]\n",
            "Epoch: 4       TrainLoss:0.07136643324668208       ValLoss0.09522088389843703\n",
            "--> Saving Model at dvcfiles/finetuned_model/pytorch_model.bin\n",
            "\n",
            "\u001b[34m\u001b[1mwandb\u001b[0m: Waiting for W&B process to finish, PID 420... (success).\n",
            "\u001b[34m\u001b[1mwandb\u001b[0m:                                                                                \n",
            "\u001b[34m\u001b[1mwandb\u001b[0m: Run history:\n",
            "\u001b[34m\u001b[1mwandb\u001b[0m:     .TrainSteploss ▃▅▆▆▇▇██▁▁▂▂▂▃▃▃▁▁▂▂▂▂▂▃▁▁▂▂▂▂▂▃▁▁▁▂▂▂▂▂\n",
            "\u001b[34m\u001b[1mwandb\u001b[0m:              Epoch ▁▁▃▃▅▅▆▆██\n",
            "\u001b[34m\u001b[1mwandb\u001b[0m:   Epoch_Train_Loss █▂▁▁▁\n",
            "\u001b[34m\u001b[1mwandb\u001b[0m:     Epoch_Val_Loss █▃▂▁▁\n",
            "\u001b[34m\u001b[1mwandb\u001b[0m:        Train Epoch ▁▁▁▁▁▁▁▁▃▃▃▃▃▃▃▃▅▅▅▅▅▅▅▅▆▆▆▆▆▆▆▆████████\n",
            "\u001b[34m\u001b[1mwandb\u001b[0m:         Train Step ▁▂▃▄▅▆▇█▁▂▃▄▅▆▇█▁▂▃▄▅▆▇█▁▂▃▄▅▆▇█▁▂▃▄▅▆▇█\n",
            "\u001b[34m\u001b[1mwandb\u001b[0m:          Val Epoch ▁▁▁▁▁▁▁▁▃▃▃▃▃▃▃▃▅▅▅▅▅▅▅▅▆▆▆▆▆▆▆▆████████\n",
            "\u001b[34m\u001b[1mwandb\u001b[0m:            ValStep ▁▂▃▄▅▆▇█▁▂▃▄▅▆▇█▁▂▃▄▅▆▇█▁▂▃▄▅▆▇█▁▂▃▄▅▆▇█\n",
            "\u001b[34m\u001b[1mwandb\u001b[0m:        ValSteploss ▁▂▃▄▅▆▇█▁▂▃▄▅▅▆▇▁▂▃▃▅▅▆▇▁▂▃▄▅▅▆▇▁▂▃▄▄▅▆▇\n",
            "\u001b[34m\u001b[1mwandb\u001b[0m: \n",
            "\u001b[34m\u001b[1mwandb\u001b[0m: Run summary:\n",
            "\u001b[34m\u001b[1mwandb\u001b[0m:     .TrainSteploss 42.81986\n",
            "\u001b[34m\u001b[1mwandb\u001b[0m:              Epoch 4\n",
            "\u001b[34m\u001b[1mwandb\u001b[0m:   Epoch_Train_Loss 0.07137\n",
            "\u001b[34m\u001b[1mwandb\u001b[0m:     Epoch_Val_Loss 0.09522\n",
            "\u001b[34m\u001b[1mwandb\u001b[0m:        Train Epoch 4\n",
            "\u001b[34m\u001b[1mwandb\u001b[0m:         Train Step 360000\n",
            "\u001b[34m\u001b[1mwandb\u001b[0m:          Val Epoch 4\n",
            "\u001b[34m\u001b[1mwandb\u001b[0m:            ValStep 90000\n",
            "\u001b[34m\u001b[1mwandb\u001b[0m:        ValSteploss 28.56627\n",
            "\u001b[34m\u001b[1mwandb\u001b[0m: \n",
            "\u001b[34m\u001b[1mwandb\u001b[0m: Synced 5 W&B file(s), 0 media file(s), 0 artifact file(s) and 0 other file(s)\n",
            "\u001b[34m\u001b[1mwandb\u001b[0m: Synced \u001b[33mwhole-pyramid-4\u001b[0m: \u001b[34mhttps://wandb.ai/sachinkun21/BERTNerHF/runs/34qg736o\u001b[0m\n",
            "\u001b[34m\u001b[1mwandb\u001b[0m: Find logs at: ./wandb/run-20220208_110929-34qg736o/logs/debug.log\n",
            "\u001b[34m\u001b[1mwandb\u001b[0m: \n"
          ]
        }
      ]
    },
    {
      "cell_type": "markdown",
      "source": [
        "## Save trained model file to drive via dvc"
      ],
      "metadata": {
        "id": "qm-LJolKbQEw"
      }
    },
    {
      "cell_type": "code",
      "source": [
        "!dvc add dvcfiles"
      ],
      "metadata": {
        "id": "Mm2rLluDwzdP",
        "colab": {
          "base_uri": "https://localhost:8080/"
        },
        "outputId": "d8f0240e-508b-4857-f116-9178f5d83562"
      },
      "execution_count": 13,
      "outputs": [
        {
          "output_type": "stream",
          "name": "stdout",
          "text": [
            "\u001b[2K\u001b[32m⠼\u001b[0m Checking graph\n",
            "Adding...:   0% 0/1 [00:00<?, ?file/s{'info': ''}]\n",
            "!\u001b[A\n",
            "Computing file/dir hashes (only done once)          |0.00 [00:00,      ?md5/s]\u001b[A\n",
            "\n",
            "!\u001b[A\u001b[A\n",
            "\n",
            "  0%|          |                                   0.00/? [00:00<?,        ?B/s]\u001b[A\u001b[A\n",
            "\n",
            "                                                                                \u001b[A\u001b[A\n",
            "\n",
            "!\u001b[A\u001b[A\n",
            "\n",
            "  0%|          |                                   0.00/? [00:00<?,        ?B/s]\u001b[A\u001b[A\n",
            "\n",
            "                                                                                \u001b[A\u001b[A\n",
            "\n",
            "!\u001b[A\u001b[A\n",
            "\n",
            "  0%|          |                                   0.00/? [00:00<?,        ?B/s]\u001b[A\u001b[A\n",
            "\n",
            "                                                                                \u001b[A\u001b[A\n",
            "\n",
            "!\u001b[A\u001b[A\n",
            "\n",
            "  0%|          |                                   0.00/? [00:00<?,        ?B/s]\u001b[A\u001b[A\n",
            "\n",
            "                                                                                \u001b[A\u001b[A\n",
            "\n",
            "!\u001b[A\u001b[A\n",
            "\n",
            "  0%|          |                                   0.00/? [00:00<?,        ?B/s]\u001b[A\u001b[A\n",
            "\n",
            "                                                                                \u001b[A\u001b[A\n",
            "\n",
            "!\u001b[A\u001b[A\n",
            "\n",
            "  0%|          |                                   0.00/? [00:00<?,        ?B/s]\u001b[A\u001b[A\n",
            "\n",
            "                                                                                \u001b[A\u001b[A\n",
            "Computing file/dir hashes (only done once)          |7.00 [00:00,   7.34md5/s]\u001b[A\n",
            "\n",
            "!\u001b[A\u001b[A\n",
            "\n",
            "  0%|          |                                   0.00/? [00:00<?,        ?B/s]\u001b[A\u001b[A\n",
            "\n",
            "                                                                                \u001b[A\u001b[A\n",
            "\n",
            "!\u001b[A\u001b[A\n",
            "\n",
            "  0%|          |                                   0.00/? [00:00<?,        ?B/s]\u001b[A\u001b[A\n",
            "\n",
            "                                                                                \u001b[A\u001b[A\n",
            "                                                                              \u001b[A\n",
            "  0% 0.00/822 [00:00<?, ?B/s]\u001b[A\n",
            "  0% 0.00/822 [00:00<?, ?B/s{'info': ''}]\u001b[A\n",
            "  0% 0.00/822 [00:00<?, ?B/s{'info': ''}]\u001b[A\n",
            "                                         \u001b[A\n",
            "  0% 0.00/9.00 [00:00<?, ?file/s]\u001b[A\n",
            "  0% 0.00/9.00 [00:00<?, ?file/s{'info': ''}]\u001b[A\n",
            "                                             \u001b[A\n",
            "Transferring:   0% 0/2 [00:00<?, ?file/s]\u001b[A\n",
            "Transferring:   0% 0/2 [00:00<?, ?file/s{'info': ''}]\u001b[A\n",
            "\n",
            "!\u001b[A\u001b[A\n",
            "\n",
            "  0%|          |f0988e4ce39c25b5b9aca05187bb0f.dir 0.00/? [00:00<?,        ?B/s]\u001b[A\u001b[A\n",
            "\n",
            "f0988e4ce39c25b5b9aca05187bb0f.dir:   0% 0.00/822 [00:00<?, ?B/s{'info': ''}]   \u001b[A\u001b[A\n",
            "\n",
            "                                                                             \u001b[A\u001b[A\n",
            "                                                     \u001b[A\n",
            "!\u001b[A\n",
            "  0%|          |.2bGauySNQQVX3DShq2XDqg.tmp        0.00/? [00:00<?,        ?B/s]\u001b[A\n",
            ".2bGauySNQQVX3DShq2XDqg.tmp:   0% 0.00/4.00 [00:00<?, ?B/s{'info': ''}]         \u001b[A\n",
            ".2bGauySNQQVX3DShq2XDqg.tmp:   0% 0.00/4.00 [00:00<?, ?B/s{'info': ''}]\u001b[A\n",
            "                                                                       \u001b[A\n",
            "!\u001b[A\n",
            "  0%|          |1d8cd98f00b204e9800998ecf8427e     0.00/? [00:00<?,        ?B/s]\u001b[A\n",
            "  0%|          |1d8cd98f00b204e9800998ecf8427e  0.00/0.00 [00:00<?,        ?B/s]\u001b[A\n",
            "  0%|          |1d8cd98f00b204e9800998ecf8427e  0.00/0.00 [00:00<?,        ?B/s]\u001b[A\n",
            "                                                                                \u001b[A\n",
            "!\u001b[A\n",
            "  0%|          |1d8cd98f00b204e9800998ecf8427e     0.00/? [00:00<?,        ?B/s]\u001b[A\n",
            "  0%|          |1d8cd98f00b204e9800998ecf8427e  0.00/0.00 [00:00<?,        ?B/s]\u001b[A\n",
            "  0%|          |1d8cd98f00b204e9800998ecf8427e  0.00/0.00 [00:00<?,        ?B/s]\u001b[A\n",
            "                                                                                \u001b[A\n",
            "!\u001b[A\n",
            "  0%|          |800d5d8528ce344256daf115d4965e     0.00/? [00:00<?,        ?B/s]\u001b[A\n",
            "800d5d8528ce344256daf115d4965e:   0% 0.00/226k [00:00<?, ?B/s{'info': ''}]      \u001b[A\n",
            "800d5d8528ce344256daf115d4965e:   0% 0.00/226k [00:00<?, ?B/s{'info': ''}]\u001b[A\n",
            "                                                                          \u001b[A\n",
            "!\u001b[A\n",
            "  0%|          |39b914fc32135f6c12d8ef281dbd7a     0.00/? [00:00<?,        ?B/s]\u001b[A\n",
            "39b914fc32135f6c12d8ef281dbd7a:   0% 0.00/570 [00:00<?, ?B/s{'info': ''}]       \u001b[A\n",
            "39b914fc32135f6c12d8ef281dbd7a:   0% 0.00/570 [00:00<?, ?B/s{'info': ''}]\u001b[A\n",
            "                                                                         \u001b[A\n",
            "!\u001b[A\n",
            "  0%|          |be2d5f044c0479fbc877084d409f04     0.00/? [00:00<?,        ?B/s]\u001b[A\n",
            "be2d5f044c0479fbc877084d409f04:   0% 0.00/418M [00:00<?, ?B/s{'info': ''}]      \u001b[A\n",
            "be2d5f044c0479fbc877084d409f04:   0% 0.00/418M [00:00<?, ?B/s{'info': ''}]\u001b[A\n",
            " 21% 87.0M/418M [00:00<00:00, 906MB/s{'info': ''}]                        \u001b[A\n",
            " 34% 144M/418M [00:00<00:00, 724MB/s{'info': ''}] \u001b[A\n",
            " 42% 177M/418M [00:00<00:00, 540MB/s{'info': ''}]\u001b[A\n",
            " 51% 214M/418M [00:00<00:00, 480MB/s{'info': ''}]\u001b[A\n",
            " 66% 276M/418M [00:00<00:00, 539MB/s{'info': ''}]\u001b[A\n",
            " 81% 339M/418M [00:00<00:00, 539MB/s{'info': ''}]\u001b[A\n",
            " 85% 355M/418M [00:00<00:00, 408MB/s{'info': ''}]\u001b[A\n",
            " 90% 376M/418M [00:00<00:00, 351MB/s{'info': ''}]\u001b[A\n",
            " 95% 397M/418M [00:00<00:00, 302MB/s{'info': ''}]\u001b[A\n",
            "                                                 \u001b[A\n",
            "!\u001b[A\n",
            "  0%|          |92867bdca31420a06558ac2051260c     0.00/? [00:00<?,        ?B/s]\u001b[A\n",
            "92867bdca31420a06558ac2051260c:   0% 0.00/150M [00:00<?, ?B/s{'info': ''}]      \u001b[A\n",
            "92867bdca31420a06558ac2051260c:   0% 0.00/150M [00:00<?, ?B/s{'info': ''}]\u001b[A\n",
            " 20% 30.0M/150M [00:00<00:00, 263MB/s{'info': ''}]                        \u001b[A\n",
            " 36% 54.0M/150M [00:00<00:00, 247MB/s{'info': ''}]\u001b[A\n",
            " 54% 81.0M/150M [00:00<00:00, 241MB/s{'info': ''}]\u001b[A\n",
            " 70% 105M/150M [00:00<00:00, 242MB/s{'info': ''}] \u001b[A\n",
            " 85% 128M/150M [00:00<00:00, 239MB/s{'info': ''}]\u001b[A\n",
            "                                                 \u001b[A\n",
            "!\u001b[A\n",
            "  0%|          |2f548c2c8485c736865bb072692f6b     0.00/? [00:00<?,        ?B/s]\u001b[A\n",
            "2f548c2c8485c736865bb072692f6b:   0% 0.00/14.5M [00:00<?, ?B/s{'info': ''}]     \u001b[A\n",
            "2f548c2c8485c736865bb072692f6b:   0% 0.00/14.5M [00:00<?, ?B/s{'info': ''}]\u001b[A\n",
            "                                                                           \u001b[A\n",
            "!\u001b[A\n",
            "  0%|          |97b42698d3b5f6d8e8011eba3d1611     0.00/? [00:00<?,        ?B/s]\u001b[A\n",
            "97b42698d3b5f6d8e8011eba3d1611:   0% 0.00/420M [00:00<?, ?B/s{'info': ''}]      \u001b[A\n",
            "97b42698d3b5f6d8e8011eba3d1611:   0% 0.00/420M [00:00<?, ?B/s{'info': ''}]\u001b[A\n",
            " 14% 58.0M/420M [00:00<00:00, 571MB/s{'info': ''}]                        \u001b[A\n",
            " 20% 84.0M/420M [00:00<00:00, 398MB/s{'info': ''}]\u001b[A\n",
            " 26% 111M/420M [00:00<00:00, 345MB/s{'info': ''}] \u001b[A\n",
            " 32% 136M/420M [00:00<00:00, 312MB/s{'info': ''}]\u001b[A\n",
            " 38% 158M/420M [00:00<00:00, 282MB/s{'info': ''}]\u001b[A\n",
            " 44% 184M/420M [00:00<00:00, 278MB/s{'info': ''}]\u001b[A\n",
            " 50% 208M/420M [00:00<00:00, 262MB/s{'info': ''}]\u001b[A\n",
            " 55% 233M/420M [00:00<00:00, 262MB/s{'info': ''}]\u001b[A\n",
            " 61% 257M/420M [00:00<00:00, 258MB/s{'info': ''}]\u001b[A\n",
            " 67% 283M/420M [00:01<00:00, 251MB/s{'info': ''}]\u001b[A\n",
            " 73% 306M/420M [00:01<00:00, 247MB/s{'info': ''}]\u001b[A\n",
            " 79% 333M/420M [00:01<00:00, 248MB/s{'info': ''}]\u001b[A\n",
            " 85% 358M/420M [00:01<00:00, 245MB/s{'info': ''}]\u001b[A\n",
            " 91% 382M/420M [00:01<00:00, 246MB/s{'info': ''}]\u001b[A\n",
            " 97% 406M/420M [00:01<00:00, 247MB/s{'info': ''}]\u001b[A\n",
            "                                                 \u001b[A\n",
            "!\u001b[A\n",
            "  0%|          |4c83b937c07136af3334391194bdf6     0.00/? [00:00<?,        ?B/s]\u001b[A\n",
            "4c83b937c07136af3334391194bdf6:   0% 0.00/38.0 [00:00<?, ?B/s{'info': ''}]      \u001b[A\n",
            "4c83b937c07136af3334391194bdf6:   0% 0.00/38.0 [00:00<?, ?B/s{'info': ''}]\u001b[A\n",
            "Adding...: 100% 1/1 [00:05<00:00,  5.37s/file{'info': ''}]\n",
            "\n",
            "To track the changes with git, run:\n",
            "\n",
            "    git add dvcfiles.dvc\n",
            "\n",
            "To enable auto staging, run:\n",
            "\n",
            "\tdvc config core.autostage true\n",
            "\u001b[0m"
          ]
        }
      ]
    },
    {
      "cell_type": "code",
      "source": [
        "!dvc push "
      ],
      "metadata": {
        "id": "eiOl016DbaDc",
        "colab": {
          "base_uri": "https://localhost:8080/"
        },
        "outputId": "c2b149a0-19eb-4b37-a8e1-01d2b4fc4692"
      },
      "execution_count": 14,
      "outputs": [
        {
          "output_type": "stream",
          "name": "stdout",
          "text": [
            "Transferring:   0% 0/2 [00:00<?, ?file/s{'info': ''}]\n",
            "!\u001b[A\n",
            "  0%|          |be2d5f044c0479fbc877084d409f04     0.00/? [00:00<?,        ?B/s]\u001b[A\n",
            "be2d5f044c0479fbc877084d409f04:   0% 0.00/418M [00:00<?, ?B/s{'info': ''}]      \u001b[A\n",
            "  0% 8.00k/418M [00:01<19:47:07, 6.15kB/s{'info': ''}]                    \u001b[A\n",
            "  3% 12.1M/418M [00:01<00:34, 12.3MB/s{'info': ''}]   \u001b[A\n",
            "  6% 25.7M/418M [00:01<00:14, 27.8MB/s{'info': ''}]\u001b[A\n",
            "  9% 37.6M/418M [00:01<00:09, 41.8MB/s{'info': ''}]\u001b[A\n",
            " 12% 48.8M/418M [00:01<00:07, 54.9MB/s{'info': ''}]\u001b[A\n",
            " 15% 60.8M/418M [00:01<00:05, 67.7MB/s{'info': ''}]\u001b[A\n",
            " 17% 72.4M/418M [00:01<00:04, 79.4MB/s{'info': ''}]\u001b[A\n",
            " 20% 82.4M/418M [00:02<00:04, 83.8MB/s{'info': ''}]\u001b[A\n",
            " 22% 93.6M/418M [00:02<00:03, 92.1MB/s{'info': ''}]\u001b[A\n",
            " 24% 100M/418M [00:02<00:06, 54.8MB/s{'info': ''}] \u001b[A\n",
            " 27% 111M/418M [00:02<00:04, 66.9MB/s{'info': ''}]\u001b[A\n",
            " 29% 122M/418M [00:02<00:04, 77.1MB/s{'info': ''}]\u001b[A\n",
            " 32% 132M/418M [00:02<00:03, 84.2MB/s{'info': ''}]\u001b[A\n",
            " 34% 142M/418M [00:02<00:03, 87.9MB/s{'info': ''}]\u001b[A\n",
            " 37% 153M/418M [00:02<00:02, 96.8MB/s{'info': ''}]\u001b[A\n",
            " 38% 161M/418M [00:03<00:03, 87.8MB/s{'info': ''}]\u001b[A\n",
            " 40% 168M/418M [00:03<00:03, 84.7MB/s{'info': ''}]\u001b[A\n",
            " 42% 175M/418M [00:03<00:03, 80.0MB/s{'info': ''}]\u001b[A\n",
            " 44% 184M/418M [00:03<00:02, 84.8MB/s{'info': ''}]\u001b[A\n",
            " 46% 191M/418M [00:03<00:03, 77.8MB/s{'info': ''}]\u001b[A\n",
            " 48% 199M/418M [00:03<00:02, 78.3MB/s{'info': ''}]\u001b[A\n",
            " 48% 200M/418M [00:03<00:05, 39.1MB/s{'info': ''}]\u001b[A\n",
            " 50% 211M/418M [00:04<00:03, 54.9MB/s{'info': ''}]\u001b[A\n",
            " 53% 222M/418M [00:04<00:03, 68.0MB/s{'info': ''}]\u001b[A\n",
            " 56% 232M/418M [00:04<00:02, 78.7MB/s{'info': ''}]\u001b[A\n",
            " 58% 240M/418M [00:04<00:02, 76.9MB/s{'info': ''}]\u001b[A\n",
            " 59% 246M/418M [00:04<00:02, 66.7MB/s{'info': ''}]\u001b[A\n",
            " 60% 252M/418M [00:04<00:02, 64.8MB/s{'info': ''}]\u001b[A\n",
            " 62% 261M/418M [00:04<00:02, 71.5MB/s{'info': ''}]\u001b[A\n",
            " 65% 271M/418M [00:04<00:01, 80.7MB/s{'info': ''}]\u001b[A\n",
            " 67% 279M/418M [00:04<00:01, 81.3MB/s{'info': ''}]\u001b[A\n",
            " 69% 289M/418M [00:04<00:01, 86.9MB/s{'info': ''}]\u001b[A\n",
            " 71% 297M/418M [00:05<00:01, 85.4MB/s{'info': ''}]\u001b[A\n",
            " 72% 300M/418M [00:05<00:02, 47.9MB/s{'info': ''}]\u001b[A\n",
            " 74% 310M/418M [00:05<00:01, 60.3MB/s{'info': ''}]\u001b[A\n",
            " 76% 319M/418M [00:05<00:01, 69.1MB/s{'info': ''}]\u001b[A\n",
            " 79% 329M/418M [00:05<00:01, 76.9MB/s{'info': ''}]\u001b[A\n",
            " 81% 339M/418M [00:05<00:00, 84.4MB/s{'info': ''}]\u001b[A\n",
            " 83% 349M/418M [00:05<00:00, 89.3MB/s{'info': ''}]\u001b[A\n",
            " 85% 354M/418M [00:05<00:00, 80.7MB/s{'info': ''}]\u001b[A\n",
            " 86% 361M/418M [00:06<00:00, 75.8MB/s{'info': ''}]\u001b[A\n",
            " 88% 368M/418M [00:06<00:00, 71.2MB/s{'info': ''}]\u001b[A\n",
            " 90% 375M/418M [00:06<00:00, 69.6MB/s{'info': ''}]\u001b[A\n",
            " 92% 383M/418M [00:06<00:00, 75.9MB/s{'info': ''}]\u001b[A\n",
            " 94% 391M/418M [00:06<00:00, 76.6MB/s{'info': ''}]\u001b[A\n",
            " 94% 392M/418M [00:06<00:00, 57.0MB/s{'info': ''}]\u001b[A\n",
            " 95% 399M/418M [00:06<00:00, 57.9MB/s{'info': ''}]\u001b[A\n",
            " 96% 400M/418M [00:07<00:01, 18.5MB/s{'info': ''}]\u001b[A\n",
            " 98% 410M/418M [00:07<00:00, 30.7MB/s{'info': ''}]\u001b[A\n",
            "Transferring:  50% 1/2 [00:08<00:08,  8.75s/file{'info': ''}]\n",
            "!\u001b[A\n",
            "  0%|          |f0988e4ce39c25b5b9aca05187bb0f.dir 0.00/? [00:00<?,        ?B/s]\u001b[A\n",
            "f0988e4ce39c25b5b9aca05187bb0f.dir:   0% 0.00/822 [00:00<?, ?B/s{'info': ''}]   \u001b[A\n",
            "100% 822/822 [00:01<00:00, 678B/s{'info': ''}]                               \u001b[A\n",
            "2 files pushed\n",
            "\u001b[0m"
          ]
        }
      ]
    },
    {
      "cell_type": "code",
      "source": [
        "!git add dvcfiles.dvc"
      ],
      "metadata": {
        "id": "RqAAjR-5bd-3"
      },
      "execution_count": 15,
      "outputs": []
    },
    {
      "cell_type": "code",
      "source": [
        "!git commit -m \"Saving trained model file\" "
      ],
      "metadata": {
        "id": "NwV1n7Libiah",
        "colab": {
          "base_uri": "https://localhost:8080/"
        },
        "outputId": "a89c411b-e67c-4fa4-8f8b-a19cc92ff577"
      },
      "execution_count": 20,
      "outputs": [
        {
          "output_type": "stream",
          "name": "stdout",
          "text": [
            "[main 43e9a07] Saving trained model file\n",
            " 1 file changed, 3 insertions(+), 3 deletions(-)\n"
          ]
        }
      ]
    },
    {
      "cell_type": "code",
      "source": [
        "!git config --global user.name sachinkun21"
      ],
      "metadata": {
        "id": "TXE9_0iNunmH"
      },
      "execution_count": 32,
      "outputs": []
    },
    {
      "cell_type": "code",
      "source": [
        "!git add ."
      ],
      "metadata": {
        "id": "4ldCr_kMvweb"
      },
      "execution_count": 34,
      "outputs": []
    },
    {
      "cell_type": "code",
      "source": [
        "!git status"
      ],
      "metadata": {
        "colab": {
          "base_uri": "https://localhost:8080/"
        },
        "id": "J-IuoSGNuzm1",
        "outputId": "c9fe7f15-a701-4447-d0e6-31c02b12250b"
      },
      "execution_count": 35,
      "outputs": [
        {
          "output_type": "stream",
          "name": "stdout",
          "text": [
            "On branch main\n",
            "Your branch is ahead of 'origin/main' by 1 commit.\n",
            "  (use \"git push\" to publish your local commits)\n",
            "\n",
            "Changes to be committed:\n",
            "  (use \"git reset HEAD <file>...\" to unstage)\n",
            "\n",
            "\t\u001b[32mmodified:   label_encoder.joblib\u001b[m\n",
            "\t\u001b[32mmodified:   train.py\u001b[m\n",
            "\t\u001b[32mnew file:   wandb/debug-internal.log\u001b[m\n",
            "\t\u001b[32mnew file:   wandb/debug.log\u001b[m\n",
            "\t\u001b[32mnew file:   wandb/latest-run\u001b[m\n",
            "\t\u001b[32mnew file:   wandb/run-20220208_110929-34qg736o/files/config.yaml\u001b[m\n",
            "\t\u001b[32mnew file:   wandb/run-20220208_110929-34qg736o/files/output.log\u001b[m\n",
            "\t\u001b[32mnew file:   wandb/run-20220208_110929-34qg736o/files/requirements.txt\u001b[m\n",
            "\t\u001b[32mnew file:   wandb/run-20220208_110929-34qg736o/files/wandb-metadata.json\u001b[m\n",
            "\t\u001b[32mnew file:   wandb/run-20220208_110929-34qg736o/files/wandb-summary.json\u001b[m\n",
            "\t\u001b[32mnew file:   wandb/run-20220208_110929-34qg736o/logs/debug-internal.log\u001b[m\n",
            "\t\u001b[32mnew file:   wandb/run-20220208_110929-34qg736o/logs/debug.log\u001b[m\n",
            "\t\u001b[32mnew file:   wandb/run-20220208_110929-34qg736o/run-34qg736o.wandb\u001b[m\n",
            "\n"
          ]
        }
      ]
    },
    {
      "cell_type": "code",
      "source": [
        "\n",
        "!git remote set-url origin https://github.com/sachinkun21/BertHuggingFaceTrainer.git"
      ],
      "metadata": {
        "id": "WIfnOIMwvQEh"
      },
      "execution_count": 36,
      "outputs": []
    },
    {
      "cell_type": "code",
      "source": [
        "!git push"
      ],
      "metadata": {
        "id": "q9F23Niebnsj",
        "colab": {
          "base_uri": "https://localhost:8080/"
        },
        "outputId": "c26224ba-d734-4cd2-c77e-621843e40218"
      },
      "execution_count": 37,
      "outputs": [
        {
          "output_type": "stream",
          "name": "stdout",
          "text": [
            "fatal: could not read Username for 'https://github.com': No such device or address\n"
          ]
        }
      ]
    },
    {
      "cell_type": "code",
      "source": [
        "import joblib\n",
        "enc = joblib.load(\"label_encoder.joblib\")\n",
        "enc"
      ],
      "metadata": {
        "colab": {
          "base_uri": "https://localhost:8080/"
        },
        "id": "GxUkcLXlZXvH",
        "outputId": "6c0524ed-f587-40ec-afc0-a4f096a6b2cc"
      },
      "execution_count": 41,
      "outputs": [
        {
          "output_type": "execute_result",
          "data": {
            "text/plain": [
              "{'enc_pos': LabelEncoder(), 'enc_tag': LabelEncoder()}"
            ]
          },
          "metadata": {},
          "execution_count": 41
        }
      ]
    },
    {
      "cell_type": "code",
      "source": [
        "enc['enc_tag'].classes_"
      ],
      "metadata": {
        "colab": {
          "base_uri": "https://localhost:8080/"
        },
        "id": "SreJPFEeBYD3",
        "outputId": "34291fa7-8d0c-466b-bd55-925c1beac58b"
      },
      "execution_count": 43,
      "outputs": [
        {
          "output_type": "execute_result",
          "data": {
            "text/plain": [
              "array(['B-art', 'B-eve', 'B-geo', 'B-gpe', 'B-nat', 'B-org', 'B-per',\n",
              "       'B-tim', 'I-art', 'I-eve', 'I-geo', 'I-gpe', 'I-nat', 'I-org',\n",
              "       'I-per', 'I-tim', 'O'], dtype=object)"
            ]
          },
          "metadata": {},
          "execution_count": 43
        }
      ]
    },
    {
      "cell_type": "code",
      "source": [
        "(50.0)==(50)"
      ],
      "metadata": {
        "colab": {
          "base_uri": "https://localhost:8080/"
        },
        "id": "-NWJ2eGKBjQT",
        "outputId": "ccc6e4aa-3870-41b4-e195-672643e80e8c"
      },
      "execution_count": 3,
      "outputs": [
        {
          "output_type": "execute_result",
          "data": {
            "text/plain": [
              "True"
            ]
          },
          "metadata": {},
          "execution_count": 3
        }
      ]
    },
    {
      "cell_type": "code",
      "source": [
        ""
      ],
      "metadata": {
        "id": "VBpbjIyOjUip"
      },
      "execution_count": null,
      "outputs": []
    }
  ]
}